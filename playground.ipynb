{
 "cells": [
  {
   "cell_type": "code",
   "execution_count": 1,
   "id": "24097d3d",
   "metadata": {},
   "outputs": [
    {
     "name": "stderr",
     "output_type": "stream",
     "text": [
      "/uscms/home/jlawless/nobackup/miniforge3/lib/python3.10/site-packages/coffea/nanoevents/schemas/fcc.py:5: FutureWarning: In version 2025.1.0 (target date: 2024-12-31 11:59:59-06:00), this will be an error.\n",
      "To raise these warnings as errors (and get stack traces to find out where they're called), run\n",
      "    import warnings\n",
      "    warnings.filterwarnings(\"error\", module=\"coffea.*\")\n",
      "after the first `import coffea` or use `@pytest.mark.filterwarnings(\"error:::coffea.*\")` in pytest.\n",
      "Issue: coffea.nanoevents.methods.vector will be removed and replaced with scikit-hep vector. Nanoevents schemas internal to coffea will be migrated. Otherwise please consider using that package!.\n",
      "  from coffea.nanoevents.methods import vector\n"
     ]
    }
   ],
   "source": [
    "import awkward as ak\n",
    "import dask_awkward as dak\n",
    "import numpy as np\n",
    "from coffea.nanoevents import NanoEventsFactory, NanoAODSchema"
   ]
  },
  {
   "cell_type": "code",
   "execution_count": 23,
   "id": "42458870",
   "metadata": {},
   "outputs": [],
   "source": [
    "class ScoutingNanoAODSchema(NanoAODSchema):\n",
    "    \"\"\"ScoutingNano schema builder\n",
    "\n",
    "    ScoutingNano is a NanoAOD format that includes Scouting objects\n",
    "    \"\"\"\n",
    "\n",
    "    mixins = {\n",
    "        **NanoAODSchema.mixins,\n",
    "        \"ScoutingPFJet\": \"Jet\",\n",
    "        \"ScoutingJet\": \"Jet\",\n",
    "        \"ScoutingFatJet\": \"Jet\",\n",
    "        \"ScoutingMuonNoVtxDisplacedVertex\": \"Vertex\",\n",
    "        \"ScoutingMuonVtxDisplacedVertex\": \"Vertex\",\n",
    "        \"ScoutingPrimaryVertex\":\"Vertex\",\n",
    "        \"ScoutingElectron\": \"Electron\",\n",
    "        \"ScoutingPhoton\": \"Photon\",\n",
    "        \"ScoutingMuonNoVtx\": \"Muon\",\n",
    "        \"ScoutingMuonVtx\": \"Muon\",\n",
    "\n",
    "    }\n",
    "    all_cross_references = {\n",
    "        **NanoAODSchema.all_cross_references,\n",
    "    }"
   ]
  },
  {
   "cell_type": "code",
   "execution_count": 24,
   "id": "afa96e18",
   "metadata": {},
   "outputs": [
    {
     "name": "stderr",
     "output_type": "stream",
     "text": [
      "/uscms/home/jlawless/nobackup/miniforge3/lib/python3.10/site-packages/coffea/nanoevents/schemas/nanoaod.py:264: RuntimeWarning: Missing cross-reference index for Electron_genPartIdx => GenPart\n",
      "  warnings.warn(\n",
      "/uscms/home/jlawless/nobackup/miniforge3/lib/python3.10/site-packages/coffea/nanoevents/schemas/nanoaod.py:264: RuntimeWarning: Missing cross-reference index for Electron_jetIdx => Jet\n",
      "  warnings.warn(\n",
      "/uscms/home/jlawless/nobackup/miniforge3/lib/python3.10/site-packages/coffea/nanoevents/schemas/nanoaod.py:264: RuntimeWarning: Missing cross-reference index for Electron_photonIdx => Photon\n",
      "  warnings.warn(\n",
      "/uscms/home/jlawless/nobackup/miniforge3/lib/python3.10/site-packages/coffea/nanoevents/schemas/nanoaod.py:264: RuntimeWarning: Missing cross-reference index for LowPtElectron_electronIdx => Electron\n",
      "  warnings.warn(\n",
      "/uscms/home/jlawless/nobackup/miniforge3/lib/python3.10/site-packages/coffea/nanoevents/schemas/nanoaod.py:264: RuntimeWarning: Missing cross-reference index for LowPtElectron_genPartIdx => GenPart\n",
      "  warnings.warn(\n",
      "/uscms/home/jlawless/nobackup/miniforge3/lib/python3.10/site-packages/coffea/nanoevents/schemas/nanoaod.py:264: RuntimeWarning: Missing cross-reference index for LowPtElectron_photonIdx => Photon\n",
      "  warnings.warn(\n",
      "/uscms/home/jlawless/nobackup/miniforge3/lib/python3.10/site-packages/coffea/nanoevents/schemas/nanoaod.py:264: RuntimeWarning: Missing cross-reference index for FatJet_genJetAK8Idx => GenJetAK8\n",
      "  warnings.warn(\n",
      "/uscms/home/jlawless/nobackup/miniforge3/lib/python3.10/site-packages/coffea/nanoevents/schemas/nanoaod.py:264: RuntimeWarning: Missing cross-reference index for FatJet_subJetIdx1 => SubJet\n",
      "  warnings.warn(\n",
      "/uscms/home/jlawless/nobackup/miniforge3/lib/python3.10/site-packages/coffea/nanoevents/schemas/nanoaod.py:264: RuntimeWarning: Missing cross-reference index for FatJet_subJetIdx2 => SubJet\n",
      "  warnings.warn(\n",
      "/uscms/home/jlawless/nobackup/miniforge3/lib/python3.10/site-packages/coffea/nanoevents/schemas/nanoaod.py:264: RuntimeWarning: Missing cross-reference index for FsrPhoton_muonIdx => Muon\n",
      "  warnings.warn(\n",
      "/uscms/home/jlawless/nobackup/miniforge3/lib/python3.10/site-packages/coffea/nanoevents/schemas/nanoaod.py:264: RuntimeWarning: Missing cross-reference index for Jet_electronIdx1 => Electron\n",
      "  warnings.warn(\n",
      "/uscms/home/jlawless/nobackup/miniforge3/lib/python3.10/site-packages/coffea/nanoevents/schemas/nanoaod.py:264: RuntimeWarning: Missing cross-reference index for Jet_electronIdx2 => Electron\n",
      "  warnings.warn(\n",
      "/uscms/home/jlawless/nobackup/miniforge3/lib/python3.10/site-packages/coffea/nanoevents/schemas/nanoaod.py:264: RuntimeWarning: Missing cross-reference index for Jet_genJetIdx => GenJet\n",
      "  warnings.warn(\n",
      "/uscms/home/jlawless/nobackup/miniforge3/lib/python3.10/site-packages/coffea/nanoevents/schemas/nanoaod.py:264: RuntimeWarning: Missing cross-reference index for Jet_muonIdx1 => Muon\n",
      "  warnings.warn(\n",
      "/uscms/home/jlawless/nobackup/miniforge3/lib/python3.10/site-packages/coffea/nanoevents/schemas/nanoaod.py:264: RuntimeWarning: Missing cross-reference index for Jet_muonIdx2 => Muon\n",
      "  warnings.warn(\n",
      "/uscms/home/jlawless/nobackup/miniforge3/lib/python3.10/site-packages/coffea/nanoevents/schemas/nanoaod.py:264: RuntimeWarning: Missing cross-reference index for Muon_fsrPhotonIdx => FsrPhoton\n",
      "  warnings.warn(\n",
      "/uscms/home/jlawless/nobackup/miniforge3/lib/python3.10/site-packages/coffea/nanoevents/schemas/nanoaod.py:264: RuntimeWarning: Missing cross-reference index for Muon_genPartIdx => GenPart\n",
      "  warnings.warn(\n",
      "/uscms/home/jlawless/nobackup/miniforge3/lib/python3.10/site-packages/coffea/nanoevents/schemas/nanoaod.py:264: RuntimeWarning: Missing cross-reference index for Muon_jetIdx => Jet\n",
      "  warnings.warn(\n",
      "/uscms/home/jlawless/nobackup/miniforge3/lib/python3.10/site-packages/coffea/nanoevents/schemas/nanoaod.py:264: RuntimeWarning: Missing cross-reference index for Photon_electronIdx => Electron\n",
      "  warnings.warn(\n",
      "/uscms/home/jlawless/nobackup/miniforge3/lib/python3.10/site-packages/coffea/nanoevents/schemas/nanoaod.py:264: RuntimeWarning: Missing cross-reference index for Photon_genPartIdx => GenPart\n",
      "  warnings.warn(\n",
      "/uscms/home/jlawless/nobackup/miniforge3/lib/python3.10/site-packages/coffea/nanoevents/schemas/nanoaod.py:264: RuntimeWarning: Missing cross-reference index for Photon_jetIdx => Jet\n",
      "  warnings.warn(\n",
      "/uscms/home/jlawless/nobackup/miniforge3/lib/python3.10/site-packages/coffea/nanoevents/schemas/nanoaod.py:264: RuntimeWarning: Missing cross-reference index for Tau_genPartIdx => GenPart\n",
      "  warnings.warn(\n",
      "/uscms/home/jlawless/nobackup/miniforge3/lib/python3.10/site-packages/coffea/nanoevents/schemas/nanoaod.py:264: RuntimeWarning: Missing cross-reference index for Tau_jetIdx => Jet\n",
      "  warnings.warn(\n"
     ]
    }
   ],
   "source": [
    "#file_list = [s.strip(\"\\n\") for s in open(\"filelists/10jets.txt\")]\n",
    "\n",
    "events = NanoEventsFactory.from_root(\n",
    "    dict.fromkeys([\"L1Nano_wScores_1.root\"], \"Events\"),\n",
    "    schemaclass=ScoutingNanoAODSchema,\n",
    ").events()\n",
    "\n",
    "events = events[:40]"
   ]
  },
  {
   "cell_type": "code",
   "execution_count": 4,
   "id": "be037705",
   "metadata": {},
   "outputs": [
    {
     "data": {
      "text/plain": [
       "['HFEMMultiplicity',\n",
       " 'HFHadronMultiplicity',\n",
       " 'chargedHadronMultiplicity',\n",
       " 'electronMultiplicity',\n",
       " 'muonMultiplicity',\n",
       " 'neutralHadronMultiplicity',\n",
       " 'photonMultiplicity',\n",
       " 'HFEMEnergy',\n",
       " 'HFHadronEnergy',\n",
       " 'HOEnergy',\n",
       " 'chargedHadronEnergy',\n",
       " 'electronEnergy',\n",
       " 'eta',\n",
       " 'jetArea',\n",
       " 'm',\n",
       " 'muonEnergy',\n",
       " 'neutralHadronEnergy',\n",
       " 'phi',\n",
       " 'photonEnergy',\n",
       " 'pt']"
      ]
     },
     "execution_count": 4,
     "metadata": {},
     "output_type": "execute_result"
    }
   ],
   "source": [
    "events.ScoutingPFJet.fields"
   ]
  },
  {
   "cell_type": "code",
   "execution_count": 3,
   "id": "addc275b",
   "metadata": {},
   "outputs": [
    {
     "data": {
      "text/html": [
       "<pre>[[2212, 2212, 21, 21, 6, -6, 21, 6, ..., -211, -211, -211, 211, 111, 111, 310],\n",
       " [2212, 2212, 2, 21, 6, -6, 2, 6, ..., 111, 11, -11, 22, 111, -311, 310, 22],\n",
       " [2212, 2212, 21, 4, 6, -6, 4, 4, ..., 13, -14, 321, 310, -323, 211, 111, -311],\n",
       " [2212, 2212, 2, 21, 6, -6, 2, -6, ..., 111, 321, 223, -211, -311, 310, 111],\n",
       " [2212, 2212, 21, 21, 6, -6, 21, -6, ..., -211, 111, 311, 211, -211, 111, 310],\n",
       " [2212, 2212, 2, 21, 6, -6, 2, -6, ..., -323, 13, -14, 321, 16, 13, -14, -311],\n",
       " [2212, 2212, 21, 2, 6, -6, 2, 6, ..., 310, 111, 310, 211, -211, -16, -11, 12],\n",
       " [2212, 2212, 21, 21, 6, -6, 21, 6, ..., -311, 22, 321, -211, -211, -211, 211],\n",
       " [2212, 2212, 21, 21, 6, -6, 21, 6, ..., 310, 411, 111, 310, 111, -11, 12, 311],\n",
       " [2212, 2212, 21, 21, 6, -6, 21, 6, ..., 211, 221, -213, 111, 111, 111, 111],\n",
       " ...,\n",
       " [2212, 2212, -1, 1, 6, -6, 21, 6, ..., -211, 111, -313, 221, 111, 111, 111],\n",
       " [2212, 2212, 21, -1, 6, -6, -1, 6, ..., 13, -14, 313, -311, 11, -12, 321, 310],\n",
       " [2212, 2212, 1, 21, 6, -6, 1, 6, ..., 111, 311, 111, 311, 211, 111, 22, 310],\n",
       " [2212, 2212, 21, 21, 6, -6, 21, 6, ..., -13, 14, -321, 111, 310, 211, -211],\n",
       " [2212, 2212, 21, 2, 6, -6, 2, 6, ..., 310, 111, 213, -211, 11, -12, 313, 111],\n",
       " [2212, 2212, 21, 21, 6, -6, 21, 6, ..., 421, 111, 311, 211, -211, 111, 111],\n",
       " [2212, 2212, 21, 21, 6, -6, 21, 6, ..., 221, 213, 111, 111, 22, 22, 111, 22],\n",
       " [2212, 2212, 21, 3, 6, -6, 3, 6, ..., -13, 14, 221, 111, 111, 111, 111, 111],\n",
       " [2212, 2212, 21, 21, 6, -6, 21, 6, ..., -3122, 111, 331, 213, 310, 113, 111]]\n",
       "--------------------------------------------------------------------------------\n",
       "type: 40 * var * int32[parameters={&quot;__doc__&quot;: &quot;PDG id&quot;}]</pre>"
      ],
      "text/plain": [
       "<Array [[2212, 2212, 21, ..., 111, 310], ...] type='40 * var * int32[parame...'>"
      ]
     },
     "execution_count": 3,
     "metadata": {},
     "output_type": "execute_result"
    }
   ],
   "source": [
    "events.GenPart.pdgId.compute()"
   ]
  },
  {
   "cell_type": "code",
   "execution_count": 25,
   "id": "922289fc",
   "metadata": {},
   "outputs": [],
   "source": [
    "def tight_jets(ev, jet_eta_cut: float = 2.4, jet_pt_cut: float = 30):\n",
    "    jet_cut = (\n",
    "        (abs(ev.ScoutingPFJet.eta) < jet_eta_cut)\n",
    "        & (ev.ScoutingPFJet.pt > jet_pt_cut)\n",
    "        # & (ev.ScoutingPFJet.neHEF < 0.90)\n",
    "        # & (ev.ScoutingPFJet.neEmEF < 0.90)\n",
    "        # & (ev.ScoutingPFJet.nConstituents > 1)\n",
    "        # & (ev.ScoutingPFJet.muEF < 0.80)\n",
    "        # & (ev.ScoutingPFJet.chHEF > 0.01)\n",
    "        # & (ev.ScoutingPFJet.nCh > 0) \\\n",
    "        # & (ev.ScoutingPFJet.chEmEF < 0.80)\n",
    "    )\n",
    "\n",
    "    # gp = ak.Array({\"genPartIdxMother\": dak.Scalar(-999,name=\"genPartIdxMother\")})\n",
    "\n",
    "\n",
    "    # gp.pdgId = -999\n",
    "    # gp.genPartIdxMother = -1\n",
    "\n",
    "    tj = ev.ScoutingPFJet[jet_cut]\n",
    "    ev[\"GenPart\",\"signal\"] = 0\n",
    "    gp = ev.GenPart[(ev.GenPart.hasFlags([\"isLastCopy\"]))]\n",
    "\n",
    "    b_one = gp[gp.pdgId == 5]\n",
    "    b_one[\"signal\"] = 1\n",
    "    w_one = gp[gp.pdgId == 24].distinctChildren\n",
    "    j_one = ak.flatten(w_one[w_one.hasFlags([\"isLastCopy\"])],axis=2)\n",
    "    j_one[\"signal\"] = 1\n",
    "\n",
    "    b_two = gp[gp.pdgId == -5]\n",
    "    b_two[\"signal\"] = 2\n",
    "    w_two = gp[gp.pdgId == -24].distinctChildren\n",
    "    j_two = ak.flatten(w_two[w_two.hasFlags([\"isLastCopy\"])],axis=2)\n",
    "    j_two[\"signal\"] = 2\n",
    "\n",
    "    chs = ak.concatenate([b_one, j_one, b_two, j_two], axis=1)\n",
    "    ev[\"SlimGenPart\"] = gp\n",
    "\n",
    "    tj[\"MatchedGenPart\"] = tj.nearest(chs,threshold=0.4)\n",
    "\n",
    "    tj[\"OGGenPart\"] = tj.nearest(gp,threshold=0.4)\n",
    "    tj[\"signal\"] = tj.MatchedGenPart.signal\n",
    "    myslice = (tj.signal == 1) | (tj.signal == 2)\n",
    "    ev[\"TightJet\"] = tj[ak.fill_none(myslice,False)]\n",
    "\n"
   ]
  },
  {
   "cell_type": "code",
   "execution_count": 7,
   "id": "5d865256",
   "metadata": {},
   "outputs": [
    {
     "name": "stdout",
     "output_type": "stream",
     "text": [
      "[[[-1, 2]], [[4, -3]], [[4, -3]], [[...]], ..., [[4, -3]], [[2, -1]], [[4, -3]]]\n"
     ]
    }
   ],
   "source": [
    "gp = events.GenPart[(events.GenPart.hasFlags([\"isLastCopy\"]))]\n",
    "\n",
    "top_one = gp[gp.pdgId == 24].distinctChildren\n",
    "print(top_one[top_one.hasFlags([\"isLastCopy\"])].pdgId.compute())"
   ]
  },
  {
   "cell_type": "code",
   "execution_count": 26,
   "id": "f3f262fa",
   "metadata": {},
   "outputs": [],
   "source": [
    "tight_jets(events)"
   ]
  },
  {
   "cell_type": "code",
   "execution_count": null,
   "id": "59c2fd9e",
   "metadata": {},
   "outputs": [],
   "source": [
    "tj.nearest(chs,threshold=0.4)"
   ]
  },
  {
   "cell_type": "code",
   "execution_count": 20,
   "id": "c474f9ac",
   "metadata": {},
   "outputs": [
    {
     "data": {
      "text/html": [
       "<pre>[[5, -1, 2, -5, 1, -2],\n",
       " [5, 4, -3, -5, 3],\n",
       " [5, 4, -3, -5, 3, -4],\n",
       " [5, 4, -3, -5, 3, -4],\n",
       " [5, 4, -3, -5, 3, -2],\n",
       " [5, 2, -1, -5, 3, -4],\n",
       " [5, 2, -1, -5, -2, 1],\n",
       " [5, 4, -3, -5, 3, -4],\n",
       " [5, 4, -3, -5, 1, -2],\n",
       " [5, 2, -3, -5, 1, -2],\n",
       " ...,\n",
       " [5, 4, -3, -5, 1, -2],\n",
       " [5, -3, 4, -5, 1, -2],\n",
       " [5, 4, -3, -5, 1, -2],\n",
       " [5, 2, -1, -5, 3, -4],\n",
       " [5, -3, 4, -5, 1, -2],\n",
       " [5, 4, -3, -5, 3, -4],\n",
       " [5, 4, -3, -5, 3, -4],\n",
       " [5, 2, -1, -5, -2, 1],\n",
       " [5, 4, -3, -5, 1, -2]]\n",
       "---------------------------------------------------------\n",
       "type: 40 * var * ?int32[parameters={&quot;__doc__&quot;: &quot;PDG id&quot;}]</pre>"
      ],
      "text/plain": [
       "<Array [[5, -1, 2, -5, 1, -2], ..., [5, ...]] type='40 * var * ?int32[param...'>"
      ]
     },
     "execution_count": 20,
     "metadata": {},
     "output_type": "execute_result"
    }
   ],
   "source": [
    "chs.pdgId.compute()"
   ]
  },
  {
   "cell_type": "code",
   "execution_count": 73,
   "id": "881e6ed2",
   "metadata": {},
   "outputs": [
    {
     "ename": "AttributeError",
     "evalue": "nearest not in fields.",
     "output_type": "error",
     "traceback": [
      "\u001b[0;31m---------------------------------------------------------------------------\u001b[0m",
      "\u001b[0;31mAttributeError\u001b[0m                            Traceback (most recent call last)",
      "File \u001b[0;32m~/nobackup/miniforge3/lib/python3.10/site-packages/dask_awkward/lib/core.py:1614\u001b[0m, in \u001b[0;36mArray.__getattr__\u001b[0;34m(self, attr)\u001b[0m\n\u001b[1;32m   1613\u001b[0m \u001b[38;5;28;01mtry\u001b[39;00m:\n\u001b[0;32m-> 1614\u001b[0m     cls_method \u001b[38;5;241m=\u001b[39m \u001b[43mgetattr_static\u001b[49m\u001b[43m(\u001b[49m\u001b[38;5;28;43mself\u001b[39;49m\u001b[38;5;241;43m.\u001b[39;49m\u001b[43m_meta\u001b[49m\u001b[43m,\u001b[49m\u001b[43m \u001b[49m\u001b[43mattr\u001b[49m\u001b[43m)\u001b[49m\n\u001b[1;32m   1615\u001b[0m \u001b[38;5;28;01mexcept\u001b[39;00m \u001b[38;5;167;01mAttributeError\u001b[39;00m:\n",
      "File \u001b[0;32m~/nobackup/miniforge3/lib/python3.10/inspect.py:1769\u001b[0m, in \u001b[0;36mgetattr_static\u001b[0;34m(obj, attr, default)\u001b[0m\n\u001b[1;32m   1768\u001b[0m     \u001b[38;5;28;01mreturn\u001b[39;00m default\n\u001b[0;32m-> 1769\u001b[0m \u001b[38;5;28;01mraise\u001b[39;00m \u001b[38;5;167;01mAttributeError\u001b[39;00m(attr)\n",
      "\u001b[0;31mAttributeError\u001b[0m: nearest",
      "\nDuring handling of the above exception, another exception occurred:\n",
      "\u001b[0;31mAttributeError\u001b[0m                            Traceback (most recent call last)",
      "Cell \u001b[0;32mIn[73], line 1\u001b[0m\n\u001b[0;32m----> 1\u001b[0m \u001b[43mtj\u001b[49m\u001b[38;5;241;43m.\u001b[39;49m\u001b[43mnearest\u001b[49m(chs,threshold\u001b[38;5;241m=\u001b[39m\u001b[38;5;241m0.4\u001b[39m)\n",
      "File \u001b[0;32m~/nobackup/miniforge3/lib/python3.10/site-packages/dask_awkward/lib/core.py:1616\u001b[0m, in \u001b[0;36mArray.__getattr__\u001b[0;34m(self, attr)\u001b[0m\n\u001b[1;32m   1614\u001b[0m     cls_method \u001b[38;5;241m=\u001b[39m getattr_static(\u001b[38;5;28mself\u001b[39m\u001b[38;5;241m.\u001b[39m_meta, attr)\n\u001b[1;32m   1615\u001b[0m \u001b[38;5;28;01mexcept\u001b[39;00m \u001b[38;5;167;01mAttributeError\u001b[39;00m:\n\u001b[0;32m-> 1616\u001b[0m     \u001b[38;5;28;01mraise\u001b[39;00m \u001b[38;5;167;01mAttributeError\u001b[39;00m(\u001b[38;5;124mf\u001b[39m\u001b[38;5;124m\"\u001b[39m\u001b[38;5;132;01m{\u001b[39;00mattr\u001b[38;5;132;01m}\u001b[39;00m\u001b[38;5;124m not in fields.\u001b[39m\u001b[38;5;124m\"\u001b[39m)\n\u001b[1;32m   1617\u001b[0m \u001b[38;5;28;01melse\u001b[39;00m:\n\u001b[1;32m   1618\u001b[0m     \u001b[38;5;28;01mif\u001b[39;00m \u001b[38;5;28mhasattr\u001b[39m(cls_method, \u001b[38;5;124m\"\u001b[39m\u001b[38;5;124m_dask_get\u001b[39m\u001b[38;5;124m\"\u001b[39m):\n",
      "\u001b[0;31mAttributeError\u001b[0m: nearest not in fields."
     ]
    }
   ],
   "source": [
    "tj.nearest(chs,threshold=0.4)"
   ]
  },
  {
   "cell_type": "code",
   "execution_count": 51,
   "id": "5d93ebe8",
   "metadata": {},
   "outputs": [
    {
     "data": {
      "text/html": [
       "<pre>[[[24, 5, 5, 24, 5, 5, 5, 5]],\n",
       " [[24, 5, 5, 24, 5, 24, 5, 5, 5]],\n",
       " [[24, 5, 5]],\n",
       " [[24, 5, 5]],\n",
       " [[24, 5, 5, 24, 5, 5]],\n",
       " [[24, 5, 5, 24, 5, 5, 5]],\n",
       " [[24, 5, 5, 24, 5, 5, 5, 5]],\n",
       " [[24, 5, 5, 24, 5, 5, 5]],\n",
       " [[24, 5, 5]],\n",
       " [[24, 5, 5]],\n",
       " ...,\n",
       " [[24, 5, 5, 24, 5, 5, 5, 5]],\n",
       " [[24, 5, 5]],\n",
       " [[24, 5, 5, 24, 5, 5]],\n",
       " [[24, 5, 5, 24, 5, 5]],\n",
       " [[24, 5, 5, 24, 5]],\n",
       " [[24, 5, 24, 5, 5]],\n",
       " [[24, 5, 5, 24, 5, 5, 5]],\n",
       " [[24, 5, 5, 24, 5, 5]],\n",
       " [[24, 5, 5]]]\n",
       "-----------------------------------------------------------------\n",
       "type: 1000 * var * var * ?int32[parameters={&quot;__doc__&quot;: &quot;PDG id&quot;}]</pre>"
      ],
      "text/plain": [
       "<Array [[[24, 5, 5, 24, 5, 5, 5, 5]], ...] type='1000 * var * var * ?int32[...'>"
      ]
     },
     "execution_count": 51,
     "metadata": {},
     "output_type": "execute_result"
    }
   ],
   "source": [
    "slg.distinctChildren.pdgId.compute()"
   ]
  },
  {
   "cell_type": "code",
   "execution_count": 23,
   "id": "17b4f650",
   "metadata": {},
   "outputs": [
    {
     "data": {
      "text/html": [
       "<pre>[[1, 1, 2, 1, 2, 1, 1],\n",
       " [1, 2, 2, 1, 2, 1, 2],\n",
       " [1, 2, 2, 1, 1],\n",
       " [2, 1, 1, 2, 2, 1],\n",
       " [1, 2, 2, 2, 1],\n",
       " [1, 2, 1, 2, 1, 1],\n",
       " [2, 1, 1, 2, 2],\n",
       " [2, 1, 1, 1, 1, 2],\n",
       " [1, 2, 2, 1, 1, 2, 2],\n",
       " [1, 1, 2, 1],\n",
       " [2, 2, 1, 1, 1],\n",
       " [2, 1, 2, 2, 1, 2, 1],\n",
       " [2, 1, 2, 1, 2, 1, 2],\n",
       " [1, 2, 2, 1, 2, 1],\n",
       " [2, 1, 1, 2, 1],\n",
       " [1, 2, 1, 2, 2, 1],\n",
       " [2, 1, 2, 1, 1],\n",
       " [2, 1, 2, 1, 1],\n",
       " [2, 2, 1, 1, 1],\n",
       " [1, 2, 1]]\n",
       "-----------------------\n",
       "backend: cpu\n",
       "nbytes: 8.2 kB\n",
       "type: 20 * var * ?int64</pre>"
      ],
      "text/plain": [
       "<Array [[1, 1, 2, 1, 2, 1, 1], [...], ..., [1, 2, 1]] type='20 * var * ?int64'>"
      ]
     },
     "execution_count": 23,
     "metadata": {},
     "output_type": "execute_result"
    }
   ],
   "source": [
    "events.TightJet.signal.compute()"
   ]
  },
  {
   "cell_type": "code",
   "execution_count": 16,
   "id": "3b89685d",
   "metadata": {},
   "outputs": [
    {
     "data": {
      "text/html": [
       "<pre>[[111, 1, 21, 21, 4, 3, 21],\n",
       " [1, -2, -3, 21, 21, None, None, -3, -1, None],\n",
       " [4, 1, 21, 3, None, None, 21],\n",
       " [1, -4, 21, 21, 3, None, 1],\n",
       " [-1, 21, 21, None, -2, None, 21],\n",
       " [411, 111, 1, 111, 21, 21],\n",
       " [-3, 2, None, 21, -2, 21],\n",
       " [3, 423, 21, 3, None, 21, 21],\n",
       " [21, 2, -2, -3, 111, 21, -3],\n",
       " [-4, 3, 21, 2],\n",
       " [21, None, 21, 3, 1, 413],\n",
       " [2, 21, None, 21, 3, -1, 3, 1],\n",
       " [21, 2, 21, 3, 21, 21, 21],\n",
       " [3, -2, 21, 431, -1, 21],\n",
       " [-3, 111, -1, None, -1, 21],\n",
       " [21, 21, -2, 21, 411, -1],\n",
       " [21, 21, 111, None, 4, 21, None],\n",
       " [21, 3, 21, 21, None, 21],\n",
       " [-423, 21, -1, -3, -2],\n",
       " [2, -3, -421]]\n",
       "---------------------------------------------------------\n",
       "backend: cpu\n",
       "nbytes: 7.9 kB\n",
       "type: 20 * var * ?int32[parameters={&quot;__doc__&quot;: &quot;PDG id&quot;}]</pre>"
      ],
      "text/plain": [
       "<Array [[111, 1, 21, 21, 4, 3, 21], ..., [...]] type='20 * var * ?int32[par...'>"
      ]
     },
     "execution_count": 16,
     "metadata": {},
     "output_type": "execute_result"
    }
   ],
   "source": [
    "events.TightJet.OGGenPart.pdgId.compute()"
   ]
  },
  {
   "cell_type": "code",
   "execution_count": 191,
   "id": "000dee81",
   "metadata": {},
   "outputs": [
    {
     "data": {
      "text/html": [
       "<pre>[[2, -1000005, 4, 2, -1000005, 1000021, 1],\n",
       " [-1000005, 2000001, 2000001, 2, -2, None, None, 1, 1000021, None],\n",
       " [-2000001, 1000021, 3, -2000001, None, None, None],\n",
       " [1000021, 1000005, -1, 3, 1000021, None, -4],\n",
       " [1000021, -3, -1, None, 1000021, None, -3],\n",
       " [1, 2, 1000021, 2, 1, None],\n",
       " [1000021, 1000021, None, 3, 1000021, -1],\n",
       " [-2000001, 4, 3, 4, None, 4, 2],\n",
       " [-1, -1, 1000021, 1000006, -4, None, 1000021],\n",
       " [1, 1000021, -3, 1000021],\n",
       " [-3, None, -1, 1000021, 1000021, 4],\n",
       " [None, 1, 1000021, 3, 1000021, 1, 4, 3],\n",
       " [2, 1000021, 1, 1000021, 1, 2, 1],\n",
       " [-2000001, 1000005, -2, 4, 1000005, None],\n",
       " [2000002, -4, 1000021, None, 2000002, -3],\n",
       " [-3, 1, 1000021, 3, 4, 1000021],\n",
       " [4, 3, 3, None, -2000001, None, None],\n",
       " [-1, -1000006, -3, 1, None, None],\n",
       " [-4, -3, 1000021, 1000021, 1000021],\n",
       " [-1, 1000006, -4]]\n",
       "-------------------------------------------------------------------\n",
       "backend: cpu\n",
       "nbytes: 7.9 kB\n",
       "type: 20 * var * ?int32[parameters={&quot;__doc__&quot;: &quot;PDG id&quot;}]</pre>"
      ],
      "text/plain": [
       "<Array [[2, -1000005, 4, ..., 1000021, 1], ...] type='20 * var * ?int32[par...'>"
      ]
     },
     "execution_count": 191,
     "metadata": {},
     "output_type": "execute_result"
    }
   ],
   "source": [
    "events.TightJet.OGGenPart.distinctParent.pdgId.compute()"
   ]
  },
  {
   "cell_type": "code",
   "execution_count": 176,
   "id": "426dcebf",
   "metadata": {},
   "outputs": [
    {
     "data": {
      "text/html": [
       "<pre>[[-1000005, 1000021, -1000005, -1000005, 1000021, 21, -1000005],\n",
       " [1000021, 1000021, 1000021, -1000005, 2000001, ..., None, -1000005, 21, None],\n",
       " [1000021, 21, 1000021, 1000021, None, None, None],\n",
       " [21, 1000021, 1000005, 1000021, 21, None, 1000005],\n",
       " [21, 1000021, 1000021, None, 21, None, 1000021],\n",
       " [1000021, -1000005, 21, -1000005, 1000021, None],\n",
       " [21, 21, None, 1000021, 21, 1000021],\n",
       " [1000021, -2000001, -2000001, -2000001, None, -2000001, -2000001],\n",
       " [1000006, 1000021, 21, 1000021, 1000021, None, 21],\n",
       " [1000021, 21, 1000021, 21],\n",
       " [1000006, None, 1000006, 21, 21, 1000021],\n",
       " [None, -2000002, 21, 1000021, 21, -2000002, 1000021, -2000002],\n",
       " [-1000005, 21, -1000005, 21, -1000005, 1000021, -1000005],\n",
       " [1000021, 1000021, 1000005, -2000001, 1000021, None],\n",
       " [1000021, 1000021, 21, None, 1000021, 1000021],\n",
       " [1000021, 1000021, 21, 1000021, 1000021, 21],\n",
       " [-2000001, -2000001, -2000001, None, 1000021, None, None],\n",
       " [2000002, 1000021, 2000002, -1000006, None, None],\n",
       " [2000001, 2000001, 21, 21, 21],\n",
       " [1000021, 1000021, 1000021]]\n",
       "-------------------------------------------------------------------------------\n",
       "backend: cpu\n",
       "nbytes: 7.9 kB\n",
       "type: 20 * var * ?int32[parameters={&quot;__doc__&quot;: &quot;PDG id&quot;}]</pre>"
      ],
      "text/plain": [
       "<Array [[-1000005, ..., -1000005], ..., [...]] type='20 * var * ?int32[para...'>"
      ]
     },
     "execution_count": 176,
     "metadata": {},
     "output_type": "execute_result"
    }
   ],
   "source": [
    "events.TightJet.OGGenPart.distinctParent.distinctParent.pdgId.compute()"
   ]
  },
  {
   "cell_type": "code",
   "execution_count": 192,
   "id": "78ed37a1",
   "metadata": {},
   "outputs": [
    {
     "data": {
      "text/html": [
       "<pre>[[1000021, 21, 1000021, 1000021, 21, None, 1000021],\n",
       " [21, 21, 21, 1000021, 1000021, None, None, 1000021, None, None],\n",
       " [21, None, 21, 21, None, None, None],\n",
       " [None, 21, 1000021, 21, None, None, 1000021],\n",
       " [None, 21, 21, None, None, None, 21],\n",
       " [21, 1000021, None, 1000021, 21, None],\n",
       " [None, None, None, 21, None, 21],\n",
       " [21, 1000021, 1000021, 1000021, None, 1000021, 1000021],\n",
       " [1000021, 21, None, 21, 21, None, None],\n",
       " [21, None, 21, None],\n",
       " [1000021, None, 1000021, None, None, 21],\n",
       " [None, 1000021, None, 21, None, 1000021, 21, 1000021],\n",
       " [1000021, None, 1000021, None, 1000021, 21, 1000021],\n",
       " [21, 21, 1000021, 1000021, 21, None],\n",
       " [21, 21, None, None, 21, 21],\n",
       " [21, 21, None, 21, 21, None],\n",
       " [1000021, 1000021, 1000021, None, 21, None, None],\n",
       " [1000021, 21, 1000021, 1000021, None, None],\n",
       " [1000021, 1000021, None, None, None],\n",
       " [21, 21, 21]]\n",
       "-----------------------------------------------------------------\n",
       "backend: cpu\n",
       "nbytes: 7.9 kB\n",
       "type: 20 * var * ?int32[parameters={&quot;__doc__&quot;: &quot;PDG id&quot;}]</pre>"
      ],
      "text/plain": [
       "<Array [[1000021, 21, ..., None, 1000021], ...] type='20 * var * ?int32[par...'>"
      ]
     },
     "execution_count": 192,
     "metadata": {},
     "output_type": "execute_result"
    }
   ],
   "source": [
    "events.TightJet.OGGenPart.distinctParent.distinctParent.distinctParent.pdgId.compute()"
   ]
  },
  {
   "cell_type": "code",
   "execution_count": 6,
   "id": "8539337e",
   "metadata": {},
   "outputs": [],
   "source": [
    "arr = dak.zip([events.TightJet.MatchedGenPart.pdgId, events.TightJet.MatchedGenPart.distinctParent.pdgId, events.TightJet.MatchedGenPart.distinctParent.distinctParent.pdgId, events.TightJet.MatchedGenPart.distinctParent.distinctParent.distinctParent.pdgId])"
   ]
  },
  {
   "cell_type": "code",
   "execution_count": 15,
   "id": "1e7f50d0",
   "metadata": {},
   "outputs": [
    {
     "data": {
      "text/html": [
       "<pre>[[(1000021, 1000021, 1000021, 1000021), ..., (1000021, 1000021, 1000021, ...)],\n",
       " [(1000021, 1000021, 1000021, 1000021), ..., (1000021, 100021, 100021, ...)],\n",
       " [(1000021, 1000021, 1000021, 1000021), ..., (1000021, 100021, 100021, ...)],\n",
       " [(1000021, 1000021, 1000021, 100021), ..., (1000021, 1000021, 1000021, ...)],\n",
       " [(1000021, 1000021, 1000021, 100021), ..., (1000021, 1000021, 1000021, ...)],\n",
       " [(1000021, 1000021, 1000021, 1000021), ..., (1000021, 100021, 100021, ...)],\n",
       " [(1000021, 1000021, 1000021, 100021), ..., (1000021, 1000021, 1000021, ...)],\n",
       " [(1000021, 1000021, 1000021, 1000021), ..., (1000021, 1000021, 1000021, ...)],\n",
       " [(1000021, 1000021, 1000021, 1000021), ..., (1000021, 1000021, 1000021, ...)],\n",
       " [(1000021, 1000021, 1000021, 1000021), ..., (1000021, 1000021, 1000021, ...)],\n",
       " [(1000021, 1000021, 1000021, 1000021), ..., (1000021, 1000021, 1000021, ...)],\n",
       " [(1000021, 100021, 100021, 100021), ..., (1000021, 1000021, 1000021, ...)],\n",
       " [(1000021, 1000021, 1000021, 1000021), ..., (1000021, 1000021, 1000021, ...)],\n",
       " [(1000021, 1000021, 1000021, 1000021), ..., (1000021, 100021, 100021, ...)],\n",
       " [(1000021, 1000021, 1000021, 1000021), ..., (1000021, 1000021, 1000021, ...)],\n",
       " [(1000021, 1000021, 1000021, 1000021), ..., (1000021, 1000021, 1000021, ...)],\n",
       " [(1000021, 1000021, 1000021, 1000021), ..., (1000021, 100021, 100021, ...)],\n",
       " [(1000021, 1000021, 1000021, 1000021), ..., (1000021, 100021, 100021, ...)],\n",
       " [(1000021, 1000021, 1000021, 1000021), ..., (1000021, 1000021, 1000021, ...)],\n",
       " [(1000021, 1000021, 1000021, 1000021), ..., (1000021, 1000021, 1000021, ...)]]\n",
       "-------------------------------------------------------------------------------\n",
       "backend: cpu\n",
       "nbytes: 4.3 kB\n",
       "type: 20 * var * (\n",
       "    int64,\n",
       "    int64,\n",
       "    int64,\n",
       "    int64\n",
       ")</pre>"
      ],
      "text/plain": [
       "<Array [[(1000021, 1000021, ...), ...], ...] type='20 * var * (int64, int64...'>"
      ]
     },
     "execution_count": 15,
     "metadata": {},
     "output_type": "execute_result"
    }
   ],
   "source": [
    "ak.fill_none(ak.full_like(arr,1000021),100021).compute()"
   ]
  },
  {
   "cell_type": "code",
   "execution_count": null,
   "id": "c482b7fc",
   "metadata": {},
   "outputs": [
    {
     "ename": "AttributeError",
     "evalue": "'int' object has no attribute 'npartitions'",
     "output_type": "error",
     "traceback": [
      "\u001b[31m---------------------------------------------------------------------------\u001b[39m",
      "\u001b[31mAttributeError\u001b[39m                            Traceback (most recent call last)",
      "\u001b[36mCell\u001b[39m\u001b[36m \u001b[39m\u001b[32mIn[53]\u001b[39m\u001b[32m, line 1\u001b[39m\n\u001b[32m----> \u001b[39m\u001b[32m1\u001b[39m \u001b[43mak\u001b[49m\u001b[43m.\u001b[49m\u001b[43mbroadcast_arrays\u001b[49m\u001b[43m(\u001b[49m\u001b[32;43m5\u001b[39;49m\u001b[43m,\u001b[49m\u001b[43m \u001b[49m\u001b[43marr\u001b[49m\u001b[43m)\u001b[49m.compute()\n",
      "\u001b[36mFile \u001b[39m\u001b[32m~/nobackup/miniforge3/envs/ml_proj/lib/python3.12/site-packages/awkward/_dispatch.py:41\u001b[39m, in \u001b[36mnamed_high_level_function.<locals>.dispatch\u001b[39m\u001b[34m(*args, **kwargs)\u001b[39m\n\u001b[32m     38\u001b[39m \u001b[38;5;129m@wraps\u001b[39m(func)\n\u001b[32m     39\u001b[39m \u001b[38;5;28;01mdef\u001b[39;00m\u001b[38;5;250m \u001b[39m\u001b[34mdispatch\u001b[39m(*args, **kwargs):\n\u001b[32m     40\u001b[39m     \u001b[38;5;66;03m# NOTE: this decorator assumes that the operation is exposed under `ak.`\u001b[39;00m\n\u001b[32m---> \u001b[39m\u001b[32m41\u001b[39m     \u001b[38;5;28;01mwith\u001b[39;00m OperationErrorContext(name, args, kwargs):\n\u001b[32m     42\u001b[39m         gen_or_result = func(*args, **kwargs)\n\u001b[32m     43\u001b[39m         \u001b[38;5;28;01mif\u001b[39;00m isgenerator(gen_or_result):\n",
      "\u001b[36mFile \u001b[39m\u001b[32m~/nobackup/miniforge3/envs/ml_proj/lib/python3.12/site-packages/awkward/_errors.py:80\u001b[39m, in \u001b[36mErrorContext.__exit__\u001b[39m\u001b[34m(self, exception_type, exception_value, traceback)\u001b[39m\n\u001b[32m     78\u001b[39m     \u001b[38;5;28mself\u001b[39m._slate.\u001b[34m__dict__\u001b[39m.clear()\n\u001b[32m     79\u001b[39m     \u001b[38;5;66;03m# Handle caught exception\u001b[39;00m\n\u001b[32m---> \u001b[39m\u001b[32m80\u001b[39m     \u001b[38;5;28;01mraise\u001b[39;00m \u001b[38;5;28mself\u001b[39m.decorate_exception(exception_type, exception_value)\n\u001b[32m     81\u001b[39m \u001b[38;5;28;01melse\u001b[39;00m:\n\u001b[32m     82\u001b[39m     \u001b[38;5;66;03m# Step out of the way so that another ErrorContext can become primary.\u001b[39;00m\n\u001b[32m     83\u001b[39m     \u001b[38;5;28;01mif\u001b[39;00m \u001b[38;5;28mself\u001b[39m.primary() \u001b[38;5;129;01mis\u001b[39;00m \u001b[38;5;28mself\u001b[39m:\n",
      "\u001b[36mFile \u001b[39m\u001b[32m~/nobackup/miniforge3/envs/ml_proj/lib/python3.12/site-packages/awkward/_dispatch.py:54\u001b[39m, in \u001b[36mnamed_high_level_function.<locals>.dispatch\u001b[39m\u001b[34m(*args, **kwargs)\u001b[39m\n\u001b[32m     52\u001b[39m     \u001b[38;5;28;01mcontinue\u001b[39;00m\n\u001b[32m     53\u001b[39m \u001b[38;5;28;01melse\u001b[39;00m:\n\u001b[32m---> \u001b[39m\u001b[32m54\u001b[39m     result = \u001b[43mcustom_impl\u001b[49m\u001b[43m(\u001b[49m\u001b[43mdispatch\u001b[49m\u001b[43m,\u001b[49m\u001b[43m \u001b[49m\u001b[43marray_likes\u001b[49m\u001b[43m,\u001b[49m\u001b[43m \u001b[49m\u001b[43margs\u001b[49m\u001b[43m,\u001b[49m\u001b[43m \u001b[49m\u001b[43mkwargs\u001b[49m\u001b[43m)\u001b[49m\n\u001b[32m     56\u001b[39m     \u001b[38;5;66;03m# Future proof the implementation by permitting the `__awkward_function__` to return `NotImplemented`\u001b[39;00m\n\u001b[32m     57\u001b[39m     \u001b[38;5;66;03m# This may later be used to signal that another overload should be used.\u001b[39;00m\n\u001b[32m     58\u001b[39m     \u001b[38;5;28;01mif\u001b[39;00m result \u001b[38;5;129;01mis\u001b[39;00m \u001b[38;5;28mNotImplemented\u001b[39m:\n",
      "\u001b[36mFile \u001b[39m\u001b[32m~/nobackup/miniforge3/envs/ml_proj/lib/python3.12/site-packages/dask_awkward/lib/core.py:1711\u001b[39m, in \u001b[36mArray.__awkward_function__\u001b[39m\u001b[34m(self, func, array_likes, args, kwargs)\u001b[39m\n\u001b[32m   1709\u001b[39m     \u001b[38;5;28;01mexcept\u001b[39;00m \u001b[38;5;167;01mAttributeError\u001b[39;00m:\n\u001b[32m   1710\u001b[39m         \u001b[38;5;28;01mreturn\u001b[39;00m \u001b[38;5;28mNotImplemented\u001b[39m\n\u001b[32m-> \u001b[39m\u001b[32m1711\u001b[39m \u001b[38;5;28;01mreturn\u001b[39;00m \u001b[43mfn\u001b[49m\u001b[43m(\u001b[49m\u001b[43m*\u001b[49m\u001b[43margs\u001b[49m\u001b[43m,\u001b[49m\u001b[43m \u001b[49m\u001b[43m*\u001b[49m\u001b[43m*\u001b[49m\u001b[43mkwargs\u001b[49m\u001b[43m)\u001b[49m\n",
      "\u001b[36mFile \u001b[39m\u001b[32m~/nobackup/miniforge3/envs/ml_proj/lib/python3.12/site-packages/dask_awkward/lib/structure.py:222\u001b[39m, in \u001b[36mbroadcast_arrays\u001b[39m\u001b[34m(highlevel, *arrays, **kwargs)\u001b[39m\n\u001b[32m    219\u001b[39m \u001b[38;5;28;01mif\u001b[39;00m \u001b[38;5;129;01mnot\u001b[39;00m highlevel:\n\u001b[32m    220\u001b[39m     \u001b[38;5;28;01mraise\u001b[39;00m \u001b[38;5;167;01mValueError\u001b[39;00m(\u001b[33m\"\u001b[39m\u001b[33mOnly highlevel=True is supported\u001b[39m\u001b[33m\"\u001b[39m)\n\u001b[32m--> \u001b[39m\u001b[32m222\u001b[39m \u001b[38;5;28;01mif\u001b[39;00m \u001b[43mpartition_compatibility\u001b[49m\u001b[43m(\u001b[49m\u001b[43m*\u001b[49m\u001b[43marrays\u001b[49m\u001b[43m)\u001b[49m == PartitionCompatibility.NO:\n\u001b[32m    223\u001b[39m     \u001b[38;5;28;01mraise\u001b[39;00m IncompatiblePartitions(\u001b[33m\"\u001b[39m\u001b[33mbroadcast_arrays\u001b[39m\u001b[33m\"\u001b[39m, *arrays)\n\u001b[32m    225\u001b[39m array_metas = (array._meta \u001b[38;5;28;01mfor\u001b[39;00m array \u001b[38;5;129;01min\u001b[39;00m arrays)\n",
      "\u001b[36mFile \u001b[39m\u001b[32m~/nobackup/miniforge3/envs/ml_proj/lib/python3.12/site-packages/dask_awkward/lib/core.py:2895\u001b[39m, in \u001b[36mpartition_compatibility\u001b[39m\u001b[34m(*args)\u001b[39m\n\u001b[32m   2840\u001b[39m \u001b[38;5;28;01mdef\u001b[39;00m\u001b[38;5;250m \u001b[39m\u001b[34mpartition_compatibility\u001b[39m(*args: Array) -> PartitionCompatibility:\n\u001b[32m   2841\u001b[39m \u001b[38;5;250m    \u001b[39m\u001b[33;03m\"\"\"Check if multiple collections have compatible partitions.\u001b[39;00m\n\u001b[32m   2842\u001b[39m \n\u001b[32m   2843\u001b[39m \u001b[33;03m    Parameters\u001b[39;00m\n\u001b[32m   (...)\u001b[39m\u001b[32m   2893\u001b[39m \n\u001b[32m   2894\u001b[39m \u001b[33;03m    \"\"\"\u001b[39;00m\n\u001b[32m-> \u001b[39m\u001b[32m2895\u001b[39m     \u001b[38;5;28;01mreturn\u001b[39;00m \u001b[43mPartitionCompatibility\u001b[49m\u001b[43m.\u001b[49m\u001b[43m_check\u001b[49m\u001b[43m(\u001b[49m\u001b[43m*\u001b[49m\u001b[43margs\u001b[49m\u001b[43m)\u001b[49m\n",
      "\u001b[36mFile \u001b[39m\u001b[32m~/nobackup/miniforge3/envs/ml_proj/lib/python3.12/site-packages/dask_awkward/lib/core.py:2807\u001b[39m, in \u001b[36mPartitionCompatibility._check\u001b[39m\u001b[34m(*args)\u001b[39m\n\u001b[32m   2802\u001b[39m \u001b[38;5;129m@staticmethod\u001b[39m\n\u001b[32m   2803\u001b[39m \u001b[38;5;28;01mdef\u001b[39;00m\u001b[38;5;250m \u001b[39m\u001b[34m_check\u001b[39m(*args: Array) -> PartitionCompatibility:\n\u001b[32m   2804\u001b[39m     \u001b[38;5;66;03m# first check to see if all arguments have the same number of\u001b[39;00m\n\u001b[32m   2805\u001b[39m     \u001b[38;5;66;03m# partitions; this is _always_ defined.\u001b[39;00m\n\u001b[32m   2806\u001b[39m     \u001b[38;5;28;01mfor\u001b[39;00m arg \u001b[38;5;129;01min\u001b[39;00m args[\u001b[32m1\u001b[39m:]:\n\u001b[32m-> \u001b[39m\u001b[32m2807\u001b[39m         \u001b[38;5;28;01mif\u001b[39;00m \u001b[43margs\u001b[49m\u001b[43m[\u001b[49m\u001b[32;43m0\u001b[39;49m\u001b[43m]\u001b[49m\u001b[43m.\u001b[49m\u001b[43mnpartitions\u001b[49m != arg.npartitions:\n\u001b[32m   2808\u001b[39m             \u001b[38;5;28;01mreturn\u001b[39;00m PartitionCompatibility.NO\n\u001b[32m   2810\u001b[39m     \u001b[38;5;66;03m# now we check if divisions are compatible. Sometimes divisions\u001b[39;00m\n\u001b[32m   2811\u001b[39m     \u001b[38;5;66;03m# are unknown and we just have a tuple of Nones; but if divisions\u001b[39;00m\n\u001b[32m   2812\u001b[39m     \u001b[38;5;66;03m# are known we want to check if they are compatible.\u001b[39;00m\n",
      "\u001b[31mAttributeError\u001b[39m: 'int' object has no attribute 'npartitions'",
      "\nThis error occurred while calling\n\n    ak.broadcast_arrays(\n        5\n        Array-instance\n    )"
     ]
    }
   ],
   "source": [
    "ak.broadcast_arrays(5, arr).compute()"
   ]
  },
  {
   "cell_type": "code",
   "execution_count": 50,
   "id": "41f6e932",
   "metadata": {},
   "outputs": [
    {
     "ename": "ValueError",
     "evalue": "cannot broadcast records in equal",
     "output_type": "error",
     "traceback": [
      "\u001b[31m---------------------------------------------------------------------------\u001b[39m",
      "\u001b[31mValueError\u001b[39m                                Traceback (most recent call last)",
      "\u001b[36mCell\u001b[39m\u001b[36m \u001b[39m\u001b[32mIn[50]\u001b[39m\u001b[32m, line 1\u001b[39m\n\u001b[32m----> \u001b[39m\u001b[32m1\u001b[39m \u001b[43marr\u001b[49m\u001b[43m.\u001b[49m\u001b[43mcompute\u001b[49m\u001b[43m(\u001b[49m\u001b[43m)\u001b[49m\u001b[43m \u001b[49m\u001b[43m==\u001b[49m\u001b[43m \u001b[49m\u001b[43mak\u001b[49m\u001b[43m.\u001b[49m\u001b[43mfill_none\u001b[49m\u001b[43m(\u001b[49m\u001b[43mak\u001b[49m\u001b[43m.\u001b[49m\u001b[43mfull_like\u001b[49m\u001b[43m(\u001b[49m\u001b[43marr\u001b[49m\u001b[43m,\u001b[49m\u001b[32;43m1000021\u001b[39;49m\u001b[43m)\u001b[49m\u001b[43m,\u001b[49m\u001b[32;43m100021\u001b[39;49m\u001b[43m)\u001b[49m\u001b[43m.\u001b[49m\u001b[43mcompute\u001b[49m\u001b[43m(\u001b[49m\u001b[43m)\u001b[49m\n",
      "\u001b[36mFile \u001b[39m\u001b[32m~/nobackup/miniforge3/envs/ml_proj/lib/python3.12/site-packages/awkward/_operators.py:54\u001b[39m, in \u001b[36m_binary_method.<locals>.func\u001b[39m\u001b[34m(self, other)\u001b[39m\n\u001b[32m     51\u001b[39m \u001b[38;5;28;01mif\u001b[39;00m _disables_array_ufunc(other):\n\u001b[32m     52\u001b[39m     \u001b[38;5;28;01mreturn\u001b[39;00m \u001b[38;5;28mNotImplemented\u001b[39m\n\u001b[32m---> \u001b[39m\u001b[32m54\u001b[39m \u001b[38;5;28;01mreturn\u001b[39;00m \u001b[43mufunc\u001b[49m\u001b[43m(\u001b[49m\u001b[38;5;28;43mself\u001b[39;49m\u001b[43m,\u001b[49m\u001b[43m \u001b[49m\u001b[43mother\u001b[49m\u001b[43m)\u001b[49m\n",
      "\u001b[36mFile \u001b[39m\u001b[32m~/nobackup/miniforge3/envs/ml_proj/lib/python3.12/site-packages/awkward/highlevel.py:1619\u001b[39m, in \u001b[36mArray.__array_ufunc__\u001b[39m\u001b[34m(self, ufunc, method, *inputs, **kwargs)\u001b[39m\n\u001b[32m   1554\u001b[39m \u001b[38;5;250m\u001b[39m\u001b[33;03m\"\"\"\u001b[39;00m\n\u001b[32m   1555\u001b[39m \u001b[33;03mIntercepts attempts to pass this Array to a NumPy\u001b[39;00m\n\u001b[32m   1556\u001b[39m \u001b[33;03m[universal functions](https://docs.scipy.org/doc/numpy/reference/ufuncs.html)\u001b[39;00m\n\u001b[32m   (...)\u001b[39m\u001b[32m   1616\u001b[39m \u001b[33;03mSee also #__array_function__.\u001b[39;00m\n\u001b[32m   1617\u001b[39m \u001b[33;03m\"\"\"\u001b[39;00m\n\u001b[32m   1618\u001b[39m name = \u001b[33mf\u001b[39m\u001b[33m\"\u001b[39m\u001b[38;5;132;01m{\u001b[39;00m\u001b[38;5;28mtype\u001b[39m(ufunc).\u001b[34m__module__\u001b[39m\u001b[38;5;132;01m}\u001b[39;00m\u001b[33m.\u001b[39m\u001b[38;5;132;01m{\u001b[39;00mufunc.\u001b[34m__name__\u001b[39m\u001b[38;5;132;01m}\u001b[39;00m\u001b[33m.\u001b[39m\u001b[38;5;132;01m{\u001b[39;00mmethod\u001b[38;5;132;01m!s}\u001b[39;00m\u001b[33m\"\u001b[39m\n\u001b[32m-> \u001b[39m\u001b[32m1619\u001b[39m \u001b[38;5;28;01mwith\u001b[39;00m ak._errors.OperationErrorContext(name, inputs, kwargs):\n\u001b[32m   1620\u001b[39m     \u001b[38;5;28;01mreturn\u001b[39;00m ak._connect.numpy.array_ufunc(ufunc, method, inputs, kwargs)\n",
      "\u001b[36mFile \u001b[39m\u001b[32m~/nobackup/miniforge3/envs/ml_proj/lib/python3.12/site-packages/awkward/_errors.py:80\u001b[39m, in \u001b[36mErrorContext.__exit__\u001b[39m\u001b[34m(self, exception_type, exception_value, traceback)\u001b[39m\n\u001b[32m     78\u001b[39m     \u001b[38;5;28mself\u001b[39m._slate.\u001b[34m__dict__\u001b[39m.clear()\n\u001b[32m     79\u001b[39m     \u001b[38;5;66;03m# Handle caught exception\u001b[39;00m\n\u001b[32m---> \u001b[39m\u001b[32m80\u001b[39m     \u001b[38;5;28;01mraise\u001b[39;00m \u001b[38;5;28mself\u001b[39m.decorate_exception(exception_type, exception_value)\n\u001b[32m     81\u001b[39m \u001b[38;5;28;01melse\u001b[39;00m:\n\u001b[32m     82\u001b[39m     \u001b[38;5;66;03m# Step out of the way so that another ErrorContext can become primary.\u001b[39;00m\n\u001b[32m     83\u001b[39m     \u001b[38;5;28;01mif\u001b[39;00m \u001b[38;5;28mself\u001b[39m.primary() \u001b[38;5;129;01mis\u001b[39;00m \u001b[38;5;28mself\u001b[39m:\n",
      "\u001b[36mFile \u001b[39m\u001b[32m~/nobackup/miniforge3/envs/ml_proj/lib/python3.12/site-packages/awkward/highlevel.py:1620\u001b[39m, in \u001b[36mArray.__array_ufunc__\u001b[39m\u001b[34m(self, ufunc, method, *inputs, **kwargs)\u001b[39m\n\u001b[32m   1618\u001b[39m name = \u001b[33mf\u001b[39m\u001b[33m\"\u001b[39m\u001b[38;5;132;01m{\u001b[39;00m\u001b[38;5;28mtype\u001b[39m(ufunc).\u001b[34m__module__\u001b[39m\u001b[38;5;132;01m}\u001b[39;00m\u001b[33m.\u001b[39m\u001b[38;5;132;01m{\u001b[39;00mufunc.\u001b[34m__name__\u001b[39m\u001b[38;5;132;01m}\u001b[39;00m\u001b[33m.\u001b[39m\u001b[38;5;132;01m{\u001b[39;00mmethod\u001b[38;5;132;01m!s}\u001b[39;00m\u001b[33m\"\u001b[39m\n\u001b[32m   1619\u001b[39m \u001b[38;5;28;01mwith\u001b[39;00m ak._errors.OperationErrorContext(name, inputs, kwargs):\n\u001b[32m-> \u001b[39m\u001b[32m1620\u001b[39m     \u001b[38;5;28;01mreturn\u001b[39;00m \u001b[43mak\u001b[49m\u001b[43m.\u001b[49m\u001b[43m_connect\u001b[49m\u001b[43m.\u001b[49m\u001b[43mnumpy\u001b[49m\u001b[43m.\u001b[49m\u001b[43marray_ufunc\u001b[49m\u001b[43m(\u001b[49m\u001b[43mufunc\u001b[49m\u001b[43m,\u001b[49m\u001b[43m \u001b[49m\u001b[43mmethod\u001b[49m\u001b[43m,\u001b[49m\u001b[43m \u001b[49m\u001b[43minputs\u001b[49m\u001b[43m,\u001b[49m\u001b[43m \u001b[49m\u001b[43mkwargs\u001b[49m\u001b[43m)\u001b[49m\n",
      "\u001b[36mFile \u001b[39m\u001b[32m~/nobackup/miniforge3/envs/ml_proj/lib/python3.12/site-packages/awkward/_connect/numpy.py:469\u001b[39m, in \u001b[36marray_ufunc\u001b[39m\u001b[34m(ufunc, method, inputs, kwargs)\u001b[39m\n\u001b[32m    461\u001b[39m         \u001b[38;5;28;01mraise\u001b[39;00m \u001b[38;5;167;01mTypeError\u001b[39;00m(\n\u001b[32m    462\u001b[39m             \u001b[33m\"\u001b[39m\u001b[33mno \u001b[39m\u001b[38;5;132;01m{}\u001b[39;00m\u001b[33m.\u001b[39m\u001b[38;5;132;01m{}\u001b[39;00m\u001b[33m overloads for custom types: \u001b[39m\u001b[38;5;132;01m{}\u001b[39;00m\u001b[33m\"\u001b[39m.format(\n\u001b[32m    463\u001b[39m                 \u001b[38;5;28mtype\u001b[39m(ufunc).\u001b[34m__module__\u001b[39m, ufunc.\u001b[34m__name__\u001b[39m, \u001b[33m\"\u001b[39m\u001b[33m, \u001b[39m\u001b[33m\"\u001b[39m.join(error_message)\n\u001b[32m    464\u001b[39m             )\n\u001b[32m    465\u001b[39m         )\n\u001b[32m    467\u001b[39m     \u001b[38;5;28;01mreturn\u001b[39;00m \u001b[38;5;28;01mNone\u001b[39;00m\n\u001b[32m--> \u001b[39m\u001b[32m469\u001b[39m out = \u001b[43mak\u001b[49m\u001b[43m.\u001b[49m\u001b[43m_broadcasting\u001b[49m\u001b[43m.\u001b[49m\u001b[43mbroadcast_and_apply\u001b[49m\u001b[43m(\u001b[49m\n\u001b[32m    470\u001b[39m \u001b[43m    \u001b[49m\u001b[43minputs\u001b[49m\u001b[43m,\u001b[49m\n\u001b[32m    471\u001b[39m \u001b[43m    \u001b[49m\u001b[43maction\u001b[49m\u001b[43m,\u001b[49m\n\u001b[32m    472\u001b[39m \u001b[43m    \u001b[49m\u001b[43mdepth_context\u001b[49m\u001b[43m=\u001b[49m\u001b[43mdepth_context\u001b[49m\u001b[43m,\u001b[49m\n\u001b[32m    473\u001b[39m \u001b[43m    \u001b[49m\u001b[43mlateral_context\u001b[49m\u001b[43m=\u001b[49m\u001b[43mlateral_context\u001b[49m\u001b[43m,\u001b[49m\n\u001b[32m    474\u001b[39m \u001b[43m    \u001b[49m\u001b[43mallow_records\u001b[49m\u001b[43m=\u001b[49m\u001b[38;5;28;43;01mFalse\u001b[39;49;00m\u001b[43m,\u001b[49m\n\u001b[32m    475\u001b[39m \u001b[43m    \u001b[49m\u001b[43mfunction_name\u001b[49m\u001b[43m=\u001b[49m\u001b[43mufunc\u001b[49m\u001b[43m.\u001b[49m\u001b[34;43m__name__\u001b[39;49m\u001b[43m,\u001b[49m\n\u001b[32m    476\u001b[39m \u001b[43m\u001b[49m\u001b[43m)\u001b[49m\n\u001b[32m    478\u001b[39m out_named_axis = functools.reduce(\n\u001b[32m    479\u001b[39m     _unify_named_axis, lateral_context[NAMED_AXIS_KEY].named_axis\n\u001b[32m    480\u001b[39m )\n\u001b[32m    481\u001b[39m \u001b[38;5;28;01mif\u001b[39;00m \u001b[38;5;28mlen\u001b[39m(out) == \u001b[32m1\u001b[39m:\n",
      "\u001b[36mFile \u001b[39m\u001b[32m~/nobackup/miniforge3/envs/ml_proj/lib/python3.12/site-packages/awkward/_broadcasting.py:1219\u001b[39m, in \u001b[36mbroadcast_and_apply\u001b[39m\u001b[34m(inputs, action, depth_context, lateral_context, allow_records, left_broadcast, right_broadcast, numpy_to_regular, regular_to_jagged, function_name, broadcast_parameters_rule)\u001b[39m\n\u001b[32m   1217\u001b[39m backend = backend_of(*inputs, coerce_to_common=\u001b[38;5;28;01mFalse\u001b[39;00m)\n\u001b[32m   1218\u001b[39m isscalar = []\n\u001b[32m-> \u001b[39m\u001b[32m1219\u001b[39m out = \u001b[43mapply_step\u001b[49m\u001b[43m(\u001b[49m\n\u001b[32m   1220\u001b[39m \u001b[43m    \u001b[49m\u001b[43mbackend\u001b[49m\u001b[43m,\u001b[49m\n\u001b[32m   1221\u001b[39m \u001b[43m    \u001b[49m\u001b[43mbroadcast_pack\u001b[49m\u001b[43m(\u001b[49m\u001b[43minputs\u001b[49m\u001b[43m,\u001b[49m\u001b[43m \u001b[49m\u001b[43misscalar\u001b[49m\u001b[43m)\u001b[49m\u001b[43m,\u001b[49m\n\u001b[32m   1222\u001b[39m \u001b[43m    \u001b[49m\u001b[43maction\u001b[49m\u001b[43m,\u001b[49m\n\u001b[32m   1223\u001b[39m \u001b[43m    \u001b[49m\u001b[32;43m0\u001b[39;49m\u001b[43m,\u001b[49m\n\u001b[32m   1224\u001b[39m \u001b[43m    \u001b[49m\u001b[43mdepth_context\u001b[49m\u001b[43m,\u001b[49m\n\u001b[32m   1225\u001b[39m \u001b[43m    \u001b[49m\u001b[43mlateral_context\u001b[49m\u001b[43m,\u001b[49m\n\u001b[32m   1226\u001b[39m \u001b[43m    \u001b[49m\u001b[43m{\u001b[49m\n\u001b[32m   1227\u001b[39m \u001b[43m        \u001b[49m\u001b[33;43m\"\u001b[39;49m\u001b[33;43mallow_records\u001b[39;49m\u001b[33;43m\"\u001b[39;49m\u001b[43m:\u001b[49m\u001b[43m \u001b[49m\u001b[43mallow_records\u001b[49m\u001b[43m,\u001b[49m\n\u001b[32m   1228\u001b[39m \u001b[43m        \u001b[49m\u001b[33;43m\"\u001b[39;49m\u001b[33;43mleft_broadcast\u001b[39;49m\u001b[33;43m\"\u001b[39;49m\u001b[43m:\u001b[49m\u001b[43m \u001b[49m\u001b[43mleft_broadcast\u001b[49m\u001b[43m,\u001b[49m\n\u001b[32m   1229\u001b[39m \u001b[43m        \u001b[49m\u001b[33;43m\"\u001b[39;49m\u001b[33;43mright_broadcast\u001b[39;49m\u001b[33;43m\"\u001b[39;49m\u001b[43m:\u001b[49m\u001b[43m \u001b[49m\u001b[43mright_broadcast\u001b[49m\u001b[43m,\u001b[49m\n\u001b[32m   1230\u001b[39m \u001b[43m        \u001b[49m\u001b[33;43m\"\u001b[39;49m\u001b[33;43mnumpy_to_regular\u001b[39;49m\u001b[33;43m\"\u001b[39;49m\u001b[43m:\u001b[49m\u001b[43m \u001b[49m\u001b[43mnumpy_to_regular\u001b[49m\u001b[43m,\u001b[49m\n\u001b[32m   1231\u001b[39m \u001b[43m        \u001b[49m\u001b[33;43m\"\u001b[39;49m\u001b[33;43mregular_to_jagged\u001b[39;49m\u001b[33;43m\"\u001b[39;49m\u001b[43m:\u001b[49m\u001b[43m \u001b[49m\u001b[43mregular_to_jagged\u001b[49m\u001b[43m,\u001b[49m\n\u001b[32m   1232\u001b[39m \u001b[43m        \u001b[49m\u001b[33;43m\"\u001b[39;49m\u001b[33;43mfunction_name\u001b[39;49m\u001b[33;43m\"\u001b[39;49m\u001b[43m:\u001b[49m\u001b[43m \u001b[49m\u001b[43mfunction_name\u001b[49m\u001b[43m,\u001b[49m\n\u001b[32m   1233\u001b[39m \u001b[43m        \u001b[49m\u001b[33;43m\"\u001b[39;49m\u001b[33;43mbroadcast_parameters_rule\u001b[39;49m\u001b[33;43m\"\u001b[39;49m\u001b[43m:\u001b[49m\u001b[43m \u001b[49m\u001b[43mbroadcast_parameters_rule\u001b[49m\u001b[43m,\u001b[49m\n\u001b[32m   1234\u001b[39m \u001b[43m    \u001b[49m\u001b[43m}\u001b[49m\u001b[43m,\u001b[49m\n\u001b[32m   1235\u001b[39m \u001b[43m\u001b[49m\u001b[43m)\u001b[49m\n\u001b[32m   1236\u001b[39m \u001b[38;5;28;01massert\u001b[39;00m \u001b[38;5;28misinstance\u001b[39m(out, \u001b[38;5;28mtuple\u001b[39m)\n\u001b[32m   1237\u001b[39m \u001b[38;5;28;01mreturn\u001b[39;00m \u001b[38;5;28mtuple\u001b[39m(broadcast_unpack(x, isscalar) \u001b[38;5;28;01mfor\u001b[39;00m x \u001b[38;5;129;01min\u001b[39;00m out)\n",
      "\u001b[36mFile \u001b[39m\u001b[32m~/nobackup/miniforge3/envs/ml_proj/lib/python3.12/site-packages/awkward/_broadcasting.py:1197\u001b[39m, in \u001b[36mapply_step\u001b[39m\u001b[34m(backend, inputs, action, depth, depth_context, lateral_context, options)\u001b[39m\n\u001b[32m   1195\u001b[39m     \u001b[38;5;28;01mreturn\u001b[39;00m result\n\u001b[32m   1196\u001b[39m \u001b[38;5;28;01melif\u001b[39;00m result \u001b[38;5;129;01mis\u001b[39;00m \u001b[38;5;28;01mNone\u001b[39;00m:\n\u001b[32m-> \u001b[39m\u001b[32m1197\u001b[39m     \u001b[38;5;28;01mreturn\u001b[39;00m \u001b[43mcontinuation\u001b[49m\u001b[43m(\u001b[49m\u001b[43m)\u001b[49m\n\u001b[32m   1198\u001b[39m \u001b[38;5;28;01melse\u001b[39;00m:\n\u001b[32m   1199\u001b[39m     \u001b[38;5;28;01mraise\u001b[39;00m \u001b[38;5;167;01mAssertionError\u001b[39;00m(result)\n",
      "\u001b[36mFile \u001b[39m\u001b[32m~/nobackup/miniforge3/envs/ml_proj/lib/python3.12/site-packages/awkward/_broadcasting.py:1166\u001b[39m, in \u001b[36mapply_step.<locals>.continuation\u001b[39m\u001b[34m()\u001b[39m\n\u001b[32m   1164\u001b[39m \u001b[38;5;66;03m# Any non-string list-types?\u001b[39;00m\n\u001b[32m   1165\u001b[39m \u001b[38;5;28;01melif\u001b[39;00m \u001b[38;5;28many\u001b[39m(x.is_list \u001b[38;5;129;01mand\u001b[39;00m \u001b[38;5;129;01mnot\u001b[39;00m is_string_like(x) \u001b[38;5;28;01mfor\u001b[39;00m x \u001b[38;5;129;01min\u001b[39;00m contents):\n\u001b[32m-> \u001b[39m\u001b[32m1166\u001b[39m     \u001b[38;5;28;01mreturn\u001b[39;00m \u001b[43mbroadcast_any_list\u001b[49m\u001b[43m(\u001b[49m\u001b[43m)\u001b[49m\n\u001b[32m   1168\u001b[39m \u001b[38;5;66;03m# Any RecordArrays?\u001b[39;00m\n\u001b[32m   1169\u001b[39m \u001b[38;5;28;01melif\u001b[39;00m \u001b[38;5;28many\u001b[39m(x.is_record \u001b[38;5;28;01mfor\u001b[39;00m x \u001b[38;5;129;01min\u001b[39;00m contents):\n",
      "\u001b[36mFile \u001b[39m\u001b[32m~/nobackup/miniforge3/envs/ml_proj/lib/python3.12/site-packages/awkward/_broadcasting.py:670\u001b[39m, in \u001b[36mapply_step.<locals>.broadcast_any_list\u001b[39m\u001b[34m()\u001b[39m\n\u001b[32m    667\u001b[39m         nextinputs.append(x)\n\u001b[32m    668\u001b[39m         nextparameters.append(NO_PARAMETERS)\n\u001b[32m--> \u001b[39m\u001b[32m670\u001b[39m outcontent = \u001b[43mapply_step\u001b[49m\u001b[43m(\u001b[49m\n\u001b[32m    671\u001b[39m \u001b[43m    \u001b[49m\u001b[43mbackend\u001b[49m\u001b[43m,\u001b[49m\n\u001b[32m    672\u001b[39m \u001b[43m    \u001b[49m\u001b[43mnextinputs\u001b[49m\u001b[43m,\u001b[49m\n\u001b[32m    673\u001b[39m \u001b[43m    \u001b[49m\u001b[43maction\u001b[49m\u001b[43m,\u001b[49m\n\u001b[32m    674\u001b[39m \u001b[43m    \u001b[49m\u001b[43mdepth\u001b[49m\u001b[43m \u001b[49m\u001b[43m+\u001b[49m\u001b[43m \u001b[49m\u001b[32;43m1\u001b[39;49m\u001b[43m,\u001b[49m\n\u001b[32m    675\u001b[39m \u001b[43m    \u001b[49m\u001b[43mcopy\u001b[49m\u001b[43m.\u001b[49m\u001b[43mcopy\u001b[49m\u001b[43m(\u001b[49m\u001b[43mdepth_context\u001b[49m\u001b[43m)\u001b[49m\u001b[43m,\u001b[49m\n\u001b[32m    676\u001b[39m \u001b[43m    \u001b[49m\u001b[43mlateral_context\u001b[49m\u001b[43m,\u001b[49m\n\u001b[32m    677\u001b[39m \u001b[43m    \u001b[49m\u001b[43moptions\u001b[49m\u001b[43m,\u001b[49m\n\u001b[32m    678\u001b[39m \u001b[43m\u001b[49m\u001b[43m)\u001b[49m\n\u001b[32m    679\u001b[39m \u001b[38;5;28;01massert\u001b[39;00m \u001b[38;5;28misinstance\u001b[39m(outcontent, \u001b[38;5;28mtuple\u001b[39m)\n\u001b[32m    680\u001b[39m parameters = parameters_factory(nextparameters, \u001b[38;5;28mlen\u001b[39m(outcontent))\n",
      "\u001b[36mFile \u001b[39m\u001b[32m~/nobackup/miniforge3/envs/ml_proj/lib/python3.12/site-packages/awkward/_broadcasting.py:1197\u001b[39m, in \u001b[36mapply_step\u001b[39m\u001b[34m(backend, inputs, action, depth, depth_context, lateral_context, options)\u001b[39m\n\u001b[32m   1195\u001b[39m     \u001b[38;5;28;01mreturn\u001b[39;00m result\n\u001b[32m   1196\u001b[39m \u001b[38;5;28;01melif\u001b[39;00m result \u001b[38;5;129;01mis\u001b[39;00m \u001b[38;5;28;01mNone\u001b[39;00m:\n\u001b[32m-> \u001b[39m\u001b[32m1197\u001b[39m     \u001b[38;5;28;01mreturn\u001b[39;00m \u001b[43mcontinuation\u001b[49m\u001b[43m(\u001b[49m\u001b[43m)\u001b[49m\n\u001b[32m   1198\u001b[39m \u001b[38;5;28;01melse\u001b[39;00m:\n\u001b[32m   1199\u001b[39m     \u001b[38;5;28;01mraise\u001b[39;00m \u001b[38;5;167;01mAssertionError\u001b[39;00m(result)\n",
      "\u001b[36mFile \u001b[39m\u001b[32m~/nobackup/miniforge3/envs/ml_proj/lib/python3.12/site-packages/awkward/_broadcasting.py:1166\u001b[39m, in \u001b[36mapply_step.<locals>.continuation\u001b[39m\u001b[34m()\u001b[39m\n\u001b[32m   1164\u001b[39m \u001b[38;5;66;03m# Any non-string list-types?\u001b[39;00m\n\u001b[32m   1165\u001b[39m \u001b[38;5;28;01melif\u001b[39;00m \u001b[38;5;28many\u001b[39m(x.is_list \u001b[38;5;129;01mand\u001b[39;00m \u001b[38;5;129;01mnot\u001b[39;00m is_string_like(x) \u001b[38;5;28;01mfor\u001b[39;00m x \u001b[38;5;129;01min\u001b[39;00m contents):\n\u001b[32m-> \u001b[39m\u001b[32m1166\u001b[39m     \u001b[38;5;28;01mreturn\u001b[39;00m \u001b[43mbroadcast_any_list\u001b[49m\u001b[43m(\u001b[49m\u001b[43m)\u001b[49m\n\u001b[32m   1168\u001b[39m \u001b[38;5;66;03m# Any RecordArrays?\u001b[39;00m\n\u001b[32m   1169\u001b[39m \u001b[38;5;28;01melif\u001b[39;00m \u001b[38;5;28many\u001b[39m(x.is_record \u001b[38;5;28;01mfor\u001b[39;00m x \u001b[38;5;129;01min\u001b[39;00m contents):\n",
      "\u001b[36mFile \u001b[39m\u001b[32m~/nobackup/miniforge3/envs/ml_proj/lib/python3.12/site-packages/awkward/_broadcasting.py:746\u001b[39m, in \u001b[36mapply_step.<locals>.broadcast_any_list\u001b[39m\u001b[34m()\u001b[39m\n\u001b[32m    743\u001b[39m         nextinputs.append(x)\n\u001b[32m    744\u001b[39m         nextparameters.append(NO_PARAMETERS)\n\u001b[32m--> \u001b[39m\u001b[32m746\u001b[39m outcontent = \u001b[43mapply_step\u001b[49m\u001b[43m(\u001b[49m\n\u001b[32m    747\u001b[39m \u001b[43m    \u001b[49m\u001b[43mbackend\u001b[49m\u001b[43m,\u001b[49m\n\u001b[32m    748\u001b[39m \u001b[43m    \u001b[49m\u001b[43mnextinputs\u001b[49m\u001b[43m,\u001b[49m\n\u001b[32m    749\u001b[39m \u001b[43m    \u001b[49m\u001b[43maction\u001b[49m\u001b[43m,\u001b[49m\n\u001b[32m    750\u001b[39m \u001b[43m    \u001b[49m\u001b[43mdepth\u001b[49m\u001b[43m \u001b[49m\u001b[43m+\u001b[49m\u001b[43m \u001b[49m\u001b[32;43m1\u001b[39;49m\u001b[43m,\u001b[49m\n\u001b[32m    751\u001b[39m \u001b[43m    \u001b[49m\u001b[43mcopy\u001b[49m\u001b[43m.\u001b[49m\u001b[43mcopy\u001b[49m\u001b[43m(\u001b[49m\u001b[43mdepth_context\u001b[49m\u001b[43m)\u001b[49m\u001b[43m,\u001b[49m\n\u001b[32m    752\u001b[39m \u001b[43m    \u001b[49m\u001b[43mlateral_context\u001b[49m\u001b[43m,\u001b[49m\n\u001b[32m    753\u001b[39m \u001b[43m    \u001b[49m\u001b[43moptions\u001b[49m\u001b[43m,\u001b[49m\n\u001b[32m    754\u001b[39m \u001b[43m\u001b[49m\u001b[43m)\u001b[49m\n\u001b[32m    755\u001b[39m \u001b[38;5;28;01massert\u001b[39;00m \u001b[38;5;28misinstance\u001b[39m(outcontent, \u001b[38;5;28mtuple\u001b[39m)\n\u001b[32m    756\u001b[39m parameters = parameters_factory(nextparameters, \u001b[38;5;28mlen\u001b[39m(outcontent))\n",
      "\u001b[36mFile \u001b[39m\u001b[32m~/nobackup/miniforge3/envs/ml_proj/lib/python3.12/site-packages/awkward/_broadcasting.py:1197\u001b[39m, in \u001b[36mapply_step\u001b[39m\u001b[34m(backend, inputs, action, depth, depth_context, lateral_context, options)\u001b[39m\n\u001b[32m   1195\u001b[39m     \u001b[38;5;28;01mreturn\u001b[39;00m result\n\u001b[32m   1196\u001b[39m \u001b[38;5;28;01melif\u001b[39;00m result \u001b[38;5;129;01mis\u001b[39;00m \u001b[38;5;28;01mNone\u001b[39;00m:\n\u001b[32m-> \u001b[39m\u001b[32m1197\u001b[39m     \u001b[38;5;28;01mreturn\u001b[39;00m \u001b[43mcontinuation\u001b[49m\u001b[43m(\u001b[49m\u001b[43m)\u001b[49m\n\u001b[32m   1198\u001b[39m \u001b[38;5;28;01melse\u001b[39;00m:\n\u001b[32m   1199\u001b[39m     \u001b[38;5;28;01mraise\u001b[39;00m \u001b[38;5;167;01mAssertionError\u001b[39;00m(result)\n",
      "\u001b[36mFile \u001b[39m\u001b[32m~/nobackup/miniforge3/envs/ml_proj/lib/python3.12/site-packages/awkward/_broadcasting.py:1170\u001b[39m, in \u001b[36mapply_step.<locals>.continuation\u001b[39m\u001b[34m()\u001b[39m\n\u001b[32m   1168\u001b[39m \u001b[38;5;66;03m# Any RecordArrays?\u001b[39;00m\n\u001b[32m   1169\u001b[39m \u001b[38;5;28;01melif\u001b[39;00m \u001b[38;5;28many\u001b[39m(x.is_record \u001b[38;5;28;01mfor\u001b[39;00m x \u001b[38;5;129;01min\u001b[39;00m contents):\n\u001b[32m-> \u001b[39m\u001b[32m1170\u001b[39m     \u001b[38;5;28;01mreturn\u001b[39;00m \u001b[43mbroadcast_any_record\u001b[49m\u001b[43m(\u001b[49m\u001b[43m)\u001b[49m\n\u001b[32m   1172\u001b[39m \u001b[38;5;28;01melse\u001b[39;00m:\n\u001b[32m   1173\u001b[39m     \u001b[38;5;28;01mraise\u001b[39;00m \u001b[38;5;167;01mValueError\u001b[39;00m(\n\u001b[32m   1174\u001b[39m         \u001b[33m\"\u001b[39m\u001b[33mcannot broadcast: \u001b[39m\u001b[38;5;132;01m{}\u001b[39;00m\u001b[38;5;132;01m{}\u001b[39;00m\u001b[33m\"\u001b[39m.format(\n\u001b[32m   1175\u001b[39m             \u001b[33m\"\u001b[39m\u001b[33m, \u001b[39m\u001b[33m\"\u001b[39m.join(\u001b[38;5;28mrepr\u001b[39m(\u001b[38;5;28mtype\u001b[39m(x)) \u001b[38;5;28;01mfor\u001b[39;00m x \u001b[38;5;129;01min\u001b[39;00m inputs), in_function(options)\n\u001b[32m   1176\u001b[39m         )\n\u001b[32m   1177\u001b[39m     )\n",
      "\u001b[36mFile \u001b[39m\u001b[32m~/nobackup/miniforge3/envs/ml_proj/lib/python3.12/site-packages/awkward/_broadcasting.py:502\u001b[39m, in \u001b[36mapply_step.<locals>.broadcast_any_record\u001b[39m\u001b[34m()\u001b[39m\n\u001b[32m    500\u001b[39m \u001b[38;5;28;01mdef\u001b[39;00m\u001b[38;5;250m \u001b[39m\u001b[34mbroadcast_any_record\u001b[39m():\n\u001b[32m    501\u001b[39m     \u001b[38;5;28;01mif\u001b[39;00m \u001b[38;5;129;01mnot\u001b[39;00m options[\u001b[33m\"\u001b[39m\u001b[33mallow_records\u001b[39m\u001b[33m\"\u001b[39m]:\n\u001b[32m--> \u001b[39m\u001b[32m502\u001b[39m         \u001b[38;5;28;01mraise\u001b[39;00m \u001b[38;5;167;01mValueError\u001b[39;00m(\u001b[33mf\u001b[39m\u001b[33m\"\u001b[39m\u001b[33mcannot broadcast records\u001b[39m\u001b[38;5;132;01m{\u001b[39;00min_function(options)\u001b[38;5;132;01m}\u001b[39;00m\u001b[33m\"\u001b[39m)\n\u001b[32m    504\u001b[39m     frozen_record_fields: \u001b[38;5;28mfrozenset\u001b[39m[\u001b[38;5;28mstr\u001b[39m] | \u001b[38;5;28;01mNone\u001b[39;00m = UNSET\n\u001b[32m    505\u001b[39m     first_record = \u001b[38;5;28mnext\u001b[39m(c \u001b[38;5;28;01mfor\u001b[39;00m c \u001b[38;5;129;01min\u001b[39;00m contents \u001b[38;5;28;01mif\u001b[39;00m c.is_record)\n",
      "\u001b[31mValueError\u001b[39m: cannot broadcast records in equal",
      "\nThis error occurred while calling\n\n    numpy.equal.__call__(\n        <Array [[(111, 2, ..., ...), ...], ...] type='20 * var * (?int32[pa...'>\n        <Array [[(1000021, ..., ...), ...], ...] type='20 * var * (int64, i...'>\n    )"
     ]
    }
   ],
   "source": [
    "arr.compute() == ak.fill_none(ak.full_like(arr,1000021),100021).compute()"
   ]
  },
  {
   "cell_type": "code",
   "execution_count": null,
   "id": "5c5569b2",
   "metadata": {},
   "outputs": [
    {
     "ename": "ValueError",
     "evalue": "cannot broadcast records in equal",
     "output_type": "error",
     "traceback": [
      "\u001b[31m---------------------------------------------------------------------------\u001b[39m",
      "\u001b[31mValueError\u001b[39m                                Traceback (most recent call last)",
      "\u001b[36mCell\u001b[39m\u001b[36m \u001b[39m\u001b[32mIn[39]\u001b[39m\u001b[32m, line 1\u001b[39m\n\u001b[32m----> \u001b[39m\u001b[32m1\u001b[39m ak.any(\u001b[43marr\u001b[49m\u001b[43m[\u001b[49m\u001b[43m:\u001b[49m\u001b[43m,\u001b[49m\u001b[43m:\u001b[49m\u001b[43m]\u001b[49m\u001b[43m \u001b[49m\u001b[43m==\u001b[49m\u001b[43m \u001b[49m\u001b[43mak\u001b[49m\u001b[43m.\u001b[49m\u001b[43mfull_like\u001b[49m\u001b[43m(\u001b[49m\u001b[43marr\u001b[49m\u001b[43m,\u001b[49m\u001b[32;43m1000021\u001b[39;49m\u001b[43m)\u001b[49m)\n",
      "\u001b[36mFile \u001b[39m\u001b[32m~/nobackup/miniforge3/envs/ml_proj/lib/python3.12/site-packages/awkward/_operators.py:54\u001b[39m, in \u001b[36m_binary_method.<locals>.func\u001b[39m\u001b[34m(self, other)\u001b[39m\n\u001b[32m     51\u001b[39m \u001b[38;5;28;01mif\u001b[39;00m _disables_array_ufunc(other):\n\u001b[32m     52\u001b[39m     \u001b[38;5;28;01mreturn\u001b[39;00m \u001b[38;5;28mNotImplemented\u001b[39m\n\u001b[32m---> \u001b[39m\u001b[32m54\u001b[39m \u001b[38;5;28;01mreturn\u001b[39;00m \u001b[43mufunc\u001b[49m\u001b[43m(\u001b[49m\u001b[38;5;28;43mself\u001b[39;49m\u001b[43m,\u001b[49m\u001b[43m \u001b[49m\u001b[43mother\u001b[49m\u001b[43m)\u001b[49m\n",
      "\u001b[36mFile \u001b[39m\u001b[32m~/nobackup/miniforge3/envs/ml_proj/lib/python3.12/site-packages/dask_awkward/lib/core.py:1721\u001b[39m, in \u001b[36mArray.__array_ufunc__\u001b[39m\u001b[34m(self, ufunc, method, *inputs, **kwargs)\u001b[39m\n\u001b[32m   1718\u001b[39m \u001b[38;5;28;01mif\u001b[39;00m partition_compatibility(*dak_arrays) == PartitionCompatibility.NO:\n\u001b[32m   1719\u001b[39m     \u001b[38;5;28;01mraise\u001b[39;00m IncompatiblePartitions(*dak_arrays)\n\u001b[32m-> \u001b[39m\u001b[32m1721\u001b[39m \u001b[38;5;28;01mreturn\u001b[39;00m \u001b[43m_map_partitions\u001b[49m\u001b[43m(\u001b[49m\n\u001b[32m   1722\u001b[39m \u001b[43m    \u001b[49m\u001b[43mufunc\u001b[49m\u001b[43m,\u001b[49m\n\u001b[32m   1723\u001b[39m \u001b[43m    \u001b[49m\u001b[43m*\u001b[49m\u001b[43minputs\u001b[49m\u001b[43m,\u001b[49m\n\u001b[32m   1724\u001b[39m \u001b[43m    \u001b[49m\u001b[43moutput_divisions\u001b[49m\u001b[43m=\u001b[49m\u001b[32;43m1\u001b[39;49m\u001b[43m,\u001b[49m\n\u001b[32m   1725\u001b[39m \u001b[43m    \u001b[49m\u001b[43m*\u001b[49m\u001b[43m*\u001b[49m\u001b[43mkwargs\u001b[49m\u001b[43m,\u001b[49m\n\u001b[32m   1726\u001b[39m \u001b[43m\u001b[49m\u001b[43m)\u001b[49m\n",
      "\u001b[36mFile \u001b[39m\u001b[32m~/nobackup/miniforge3/envs/ml_proj/lib/python3.12/site-packages/dask_awkward/lib/core.py:2063\u001b[39m, in \u001b[36m_map_partitions\u001b[39m\u001b[34m(fn, label, token, meta, output_divisions, *args, **kwargs)\u001b[39m\n\u001b[32m   2055\u001b[39m lay = partitionwise_layer(\n\u001b[32m   2056\u001b[39m     fn,\n\u001b[32m   2057\u001b[39m     name,\n\u001b[32m   2058\u001b[39m     *args,\n\u001b[32m   2059\u001b[39m     **kwargs,\n\u001b[32m   2060\u001b[39m )\n\u001b[32m   2062\u001b[39m \u001b[38;5;28;01mif\u001b[39;00m meta \u001b[38;5;129;01mis\u001b[39;00m \u001b[38;5;28;01mNone\u001b[39;00m:\n\u001b[32m-> \u001b[39m\u001b[32m2063\u001b[39m     meta = \u001b[43mmap_meta\u001b[49m\u001b[43m(\u001b[49m\u001b[43mfn\u001b[49m\u001b[43m,\u001b[49m\u001b[43m \u001b[49m\u001b[43m*\u001b[49m\u001b[43margs\u001b[49m\u001b[43m,\u001b[49m\u001b[43m \u001b[49m\u001b[43m*\u001b[49m\u001b[43m*\u001b[49m\u001b[43mkwargs\u001b[49m\u001b[43m)\u001b[49m\n\u001b[32m   2065\u001b[39m hlg = HighLevelGraph.from_collections(\n\u001b[32m   2066\u001b[39m     name,\n\u001b[32m   2067\u001b[39m     lay,\n\u001b[32m   2068\u001b[39m     dependencies=deps,\n\u001b[32m   2069\u001b[39m )\n\u001b[32m   2071\u001b[39m \u001b[38;5;28;01mif\u001b[39;00m \u001b[38;5;28mlen\u001b[39m(dak_arrays) == \u001b[32m0\u001b[39m:\n",
      "\u001b[36mFile \u001b[39m\u001b[32m~/nobackup/miniforge3/envs/ml_proj/lib/python3.12/site-packages/dask_awkward/lib/core.py:2604\u001b[39m, in \u001b[36mmap_meta\u001b[39m\u001b[34m(fn, *deps, **kwargs)\u001b[39m\n\u001b[32m   2602\u001b[39m         meta = fn(*to_meta(deps))\n\u001b[32m   2603\u001b[39m     \u001b[38;5;28;01melse\u001b[39;00m:\n\u001b[32m-> \u001b[39m\u001b[32m2604\u001b[39m         meta = \u001b[43mfn\u001b[49m\u001b[43m(\u001b[49m\u001b[43m*\u001b[49m\u001b[43mto_meta\u001b[49m\u001b[43m(\u001b[49m\u001b[43mdeps\u001b[49m\u001b[43m)\u001b[49m\u001b[43m,\u001b[49m\u001b[43m \u001b[49m\u001b[43m*\u001b[49m\u001b[43m*\u001b[49m\u001b[43mkwargs\u001b[49m\u001b[43m)\u001b[49m\n\u001b[32m   2605\u001b[39m     \u001b[38;5;28;01mreturn\u001b[39;00m meta\n\u001b[32m   2606\u001b[39m \u001b[38;5;28;01mexcept\u001b[39;00m \u001b[38;5;167;01mException\u001b[39;00m \u001b[38;5;28;01mas\u001b[39;00m err:\n\u001b[32m   2607\u001b[39m     \u001b[38;5;66;03m# if compute-unknown-meta is False then we don't care about\u001b[39;00m\n\u001b[32m   2608\u001b[39m     \u001b[38;5;66;03m# this failure and we return None.\u001b[39;00m\n",
      "\u001b[36mFile \u001b[39m\u001b[32m~/nobackup/miniforge3/envs/ml_proj/lib/python3.12/site-packages/awkward/highlevel.py:1619\u001b[39m, in \u001b[36mArray.__array_ufunc__\u001b[39m\u001b[34m(self, ufunc, method, *inputs, **kwargs)\u001b[39m\n\u001b[32m   1554\u001b[39m \u001b[38;5;250m\u001b[39m\u001b[33;03m\"\"\"\u001b[39;00m\n\u001b[32m   1555\u001b[39m \u001b[33;03mIntercepts attempts to pass this Array to a NumPy\u001b[39;00m\n\u001b[32m   1556\u001b[39m \u001b[33;03m[universal functions](https://docs.scipy.org/doc/numpy/reference/ufuncs.html)\u001b[39;00m\n\u001b[32m   (...)\u001b[39m\u001b[32m   1616\u001b[39m \u001b[33;03mSee also #__array_function__.\u001b[39;00m\n\u001b[32m   1617\u001b[39m \u001b[33;03m\"\"\"\u001b[39;00m\n\u001b[32m   1618\u001b[39m name = \u001b[33mf\u001b[39m\u001b[33m\"\u001b[39m\u001b[38;5;132;01m{\u001b[39;00m\u001b[38;5;28mtype\u001b[39m(ufunc).\u001b[34m__module__\u001b[39m\u001b[38;5;132;01m}\u001b[39;00m\u001b[33m.\u001b[39m\u001b[38;5;132;01m{\u001b[39;00mufunc.\u001b[34m__name__\u001b[39m\u001b[38;5;132;01m}\u001b[39;00m\u001b[33m.\u001b[39m\u001b[38;5;132;01m{\u001b[39;00mmethod\u001b[38;5;132;01m!s}\u001b[39;00m\u001b[33m\"\u001b[39m\n\u001b[32m-> \u001b[39m\u001b[32m1619\u001b[39m \u001b[38;5;28;01mwith\u001b[39;00m ak._errors.OperationErrorContext(name, inputs, kwargs):\n\u001b[32m   1620\u001b[39m     \u001b[38;5;28;01mreturn\u001b[39;00m ak._connect.numpy.array_ufunc(ufunc, method, inputs, kwargs)\n",
      "\u001b[36mFile \u001b[39m\u001b[32m~/nobackup/miniforge3/envs/ml_proj/lib/python3.12/site-packages/awkward/_errors.py:80\u001b[39m, in \u001b[36mErrorContext.__exit__\u001b[39m\u001b[34m(self, exception_type, exception_value, traceback)\u001b[39m\n\u001b[32m     78\u001b[39m     \u001b[38;5;28mself\u001b[39m._slate.\u001b[34m__dict__\u001b[39m.clear()\n\u001b[32m     79\u001b[39m     \u001b[38;5;66;03m# Handle caught exception\u001b[39;00m\n\u001b[32m---> \u001b[39m\u001b[32m80\u001b[39m     \u001b[38;5;28;01mraise\u001b[39;00m \u001b[38;5;28mself\u001b[39m.decorate_exception(exception_type, exception_value)\n\u001b[32m     81\u001b[39m \u001b[38;5;28;01melse\u001b[39;00m:\n\u001b[32m     82\u001b[39m     \u001b[38;5;66;03m# Step out of the way so that another ErrorContext can become primary.\u001b[39;00m\n\u001b[32m     83\u001b[39m     \u001b[38;5;28;01mif\u001b[39;00m \u001b[38;5;28mself\u001b[39m.primary() \u001b[38;5;129;01mis\u001b[39;00m \u001b[38;5;28mself\u001b[39m:\n",
      "\u001b[36mFile \u001b[39m\u001b[32m~/nobackup/miniforge3/envs/ml_proj/lib/python3.12/site-packages/awkward/highlevel.py:1620\u001b[39m, in \u001b[36mArray.__array_ufunc__\u001b[39m\u001b[34m(self, ufunc, method, *inputs, **kwargs)\u001b[39m\n\u001b[32m   1618\u001b[39m name = \u001b[33mf\u001b[39m\u001b[33m\"\u001b[39m\u001b[38;5;132;01m{\u001b[39;00m\u001b[38;5;28mtype\u001b[39m(ufunc).\u001b[34m__module__\u001b[39m\u001b[38;5;132;01m}\u001b[39;00m\u001b[33m.\u001b[39m\u001b[38;5;132;01m{\u001b[39;00mufunc.\u001b[34m__name__\u001b[39m\u001b[38;5;132;01m}\u001b[39;00m\u001b[33m.\u001b[39m\u001b[38;5;132;01m{\u001b[39;00mmethod\u001b[38;5;132;01m!s}\u001b[39;00m\u001b[33m\"\u001b[39m\n\u001b[32m   1619\u001b[39m \u001b[38;5;28;01mwith\u001b[39;00m ak._errors.OperationErrorContext(name, inputs, kwargs):\n\u001b[32m-> \u001b[39m\u001b[32m1620\u001b[39m     \u001b[38;5;28;01mreturn\u001b[39;00m \u001b[43mak\u001b[49m\u001b[43m.\u001b[49m\u001b[43m_connect\u001b[49m\u001b[43m.\u001b[49m\u001b[43mnumpy\u001b[49m\u001b[43m.\u001b[49m\u001b[43marray_ufunc\u001b[49m\u001b[43m(\u001b[49m\u001b[43mufunc\u001b[49m\u001b[43m,\u001b[49m\u001b[43m \u001b[49m\u001b[43mmethod\u001b[49m\u001b[43m,\u001b[49m\u001b[43m \u001b[49m\u001b[43minputs\u001b[49m\u001b[43m,\u001b[49m\u001b[43m \u001b[49m\u001b[43mkwargs\u001b[49m\u001b[43m)\u001b[49m\n",
      "\u001b[36mFile \u001b[39m\u001b[32m~/nobackup/miniforge3/envs/ml_proj/lib/python3.12/site-packages/awkward/_connect/numpy.py:469\u001b[39m, in \u001b[36marray_ufunc\u001b[39m\u001b[34m(ufunc, method, inputs, kwargs)\u001b[39m\n\u001b[32m    461\u001b[39m         \u001b[38;5;28;01mraise\u001b[39;00m \u001b[38;5;167;01mTypeError\u001b[39;00m(\n\u001b[32m    462\u001b[39m             \u001b[33m\"\u001b[39m\u001b[33mno \u001b[39m\u001b[38;5;132;01m{}\u001b[39;00m\u001b[33m.\u001b[39m\u001b[38;5;132;01m{}\u001b[39;00m\u001b[33m overloads for custom types: \u001b[39m\u001b[38;5;132;01m{}\u001b[39;00m\u001b[33m\"\u001b[39m.format(\n\u001b[32m    463\u001b[39m                 \u001b[38;5;28mtype\u001b[39m(ufunc).\u001b[34m__module__\u001b[39m, ufunc.\u001b[34m__name__\u001b[39m, \u001b[33m\"\u001b[39m\u001b[33m, \u001b[39m\u001b[33m\"\u001b[39m.join(error_message)\n\u001b[32m    464\u001b[39m             )\n\u001b[32m    465\u001b[39m         )\n\u001b[32m    467\u001b[39m     \u001b[38;5;28;01mreturn\u001b[39;00m \u001b[38;5;28;01mNone\u001b[39;00m\n\u001b[32m--> \u001b[39m\u001b[32m469\u001b[39m out = \u001b[43mak\u001b[49m\u001b[43m.\u001b[49m\u001b[43m_broadcasting\u001b[49m\u001b[43m.\u001b[49m\u001b[43mbroadcast_and_apply\u001b[49m\u001b[43m(\u001b[49m\n\u001b[32m    470\u001b[39m \u001b[43m    \u001b[49m\u001b[43minputs\u001b[49m\u001b[43m,\u001b[49m\n\u001b[32m    471\u001b[39m \u001b[43m    \u001b[49m\u001b[43maction\u001b[49m\u001b[43m,\u001b[49m\n\u001b[32m    472\u001b[39m \u001b[43m    \u001b[49m\u001b[43mdepth_context\u001b[49m\u001b[43m=\u001b[49m\u001b[43mdepth_context\u001b[49m\u001b[43m,\u001b[49m\n\u001b[32m    473\u001b[39m \u001b[43m    \u001b[49m\u001b[43mlateral_context\u001b[49m\u001b[43m=\u001b[49m\u001b[43mlateral_context\u001b[49m\u001b[43m,\u001b[49m\n\u001b[32m    474\u001b[39m \u001b[43m    \u001b[49m\u001b[43mallow_records\u001b[49m\u001b[43m=\u001b[49m\u001b[38;5;28;43;01mFalse\u001b[39;49;00m\u001b[43m,\u001b[49m\n\u001b[32m    475\u001b[39m \u001b[43m    \u001b[49m\u001b[43mfunction_name\u001b[49m\u001b[43m=\u001b[49m\u001b[43mufunc\u001b[49m\u001b[43m.\u001b[49m\u001b[34;43m__name__\u001b[39;49m\u001b[43m,\u001b[49m\n\u001b[32m    476\u001b[39m \u001b[43m\u001b[49m\u001b[43m)\u001b[49m\n\u001b[32m    478\u001b[39m out_named_axis = functools.reduce(\n\u001b[32m    479\u001b[39m     _unify_named_axis, lateral_context[NAMED_AXIS_KEY].named_axis\n\u001b[32m    480\u001b[39m )\n\u001b[32m    481\u001b[39m \u001b[38;5;28;01mif\u001b[39;00m \u001b[38;5;28mlen\u001b[39m(out) == \u001b[32m1\u001b[39m:\n",
      "\u001b[36mFile \u001b[39m\u001b[32m~/nobackup/miniforge3/envs/ml_proj/lib/python3.12/site-packages/awkward/_broadcasting.py:1219\u001b[39m, in \u001b[36mbroadcast_and_apply\u001b[39m\u001b[34m(inputs, action, depth_context, lateral_context, allow_records, left_broadcast, right_broadcast, numpy_to_regular, regular_to_jagged, function_name, broadcast_parameters_rule)\u001b[39m\n\u001b[32m   1217\u001b[39m backend = backend_of(*inputs, coerce_to_common=\u001b[38;5;28;01mFalse\u001b[39;00m)\n\u001b[32m   1218\u001b[39m isscalar = []\n\u001b[32m-> \u001b[39m\u001b[32m1219\u001b[39m out = \u001b[43mapply_step\u001b[49m\u001b[43m(\u001b[49m\n\u001b[32m   1220\u001b[39m \u001b[43m    \u001b[49m\u001b[43mbackend\u001b[49m\u001b[43m,\u001b[49m\n\u001b[32m   1221\u001b[39m \u001b[43m    \u001b[49m\u001b[43mbroadcast_pack\u001b[49m\u001b[43m(\u001b[49m\u001b[43minputs\u001b[49m\u001b[43m,\u001b[49m\u001b[43m \u001b[49m\u001b[43misscalar\u001b[49m\u001b[43m)\u001b[49m\u001b[43m,\u001b[49m\n\u001b[32m   1222\u001b[39m \u001b[43m    \u001b[49m\u001b[43maction\u001b[49m\u001b[43m,\u001b[49m\n\u001b[32m   1223\u001b[39m \u001b[43m    \u001b[49m\u001b[32;43m0\u001b[39;49m\u001b[43m,\u001b[49m\n\u001b[32m   1224\u001b[39m \u001b[43m    \u001b[49m\u001b[43mdepth_context\u001b[49m\u001b[43m,\u001b[49m\n\u001b[32m   1225\u001b[39m \u001b[43m    \u001b[49m\u001b[43mlateral_context\u001b[49m\u001b[43m,\u001b[49m\n\u001b[32m   1226\u001b[39m \u001b[43m    \u001b[49m\u001b[43m{\u001b[49m\n\u001b[32m   1227\u001b[39m \u001b[43m        \u001b[49m\u001b[33;43m\"\u001b[39;49m\u001b[33;43mallow_records\u001b[39;49m\u001b[33;43m\"\u001b[39;49m\u001b[43m:\u001b[49m\u001b[43m \u001b[49m\u001b[43mallow_records\u001b[49m\u001b[43m,\u001b[49m\n\u001b[32m   1228\u001b[39m \u001b[43m        \u001b[49m\u001b[33;43m\"\u001b[39;49m\u001b[33;43mleft_broadcast\u001b[39;49m\u001b[33;43m\"\u001b[39;49m\u001b[43m:\u001b[49m\u001b[43m \u001b[49m\u001b[43mleft_broadcast\u001b[49m\u001b[43m,\u001b[49m\n\u001b[32m   1229\u001b[39m \u001b[43m        \u001b[49m\u001b[33;43m\"\u001b[39;49m\u001b[33;43mright_broadcast\u001b[39;49m\u001b[33;43m\"\u001b[39;49m\u001b[43m:\u001b[49m\u001b[43m \u001b[49m\u001b[43mright_broadcast\u001b[49m\u001b[43m,\u001b[49m\n\u001b[32m   1230\u001b[39m \u001b[43m        \u001b[49m\u001b[33;43m\"\u001b[39;49m\u001b[33;43mnumpy_to_regular\u001b[39;49m\u001b[33;43m\"\u001b[39;49m\u001b[43m:\u001b[49m\u001b[43m \u001b[49m\u001b[43mnumpy_to_regular\u001b[49m\u001b[43m,\u001b[49m\n\u001b[32m   1231\u001b[39m \u001b[43m        \u001b[49m\u001b[33;43m\"\u001b[39;49m\u001b[33;43mregular_to_jagged\u001b[39;49m\u001b[33;43m\"\u001b[39;49m\u001b[43m:\u001b[49m\u001b[43m \u001b[49m\u001b[43mregular_to_jagged\u001b[49m\u001b[43m,\u001b[49m\n\u001b[32m   1232\u001b[39m \u001b[43m        \u001b[49m\u001b[33;43m\"\u001b[39;49m\u001b[33;43mfunction_name\u001b[39;49m\u001b[33;43m\"\u001b[39;49m\u001b[43m:\u001b[49m\u001b[43m \u001b[49m\u001b[43mfunction_name\u001b[49m\u001b[43m,\u001b[49m\n\u001b[32m   1233\u001b[39m \u001b[43m        \u001b[49m\u001b[33;43m\"\u001b[39;49m\u001b[33;43mbroadcast_parameters_rule\u001b[39;49m\u001b[33;43m\"\u001b[39;49m\u001b[43m:\u001b[49m\u001b[43m \u001b[49m\u001b[43mbroadcast_parameters_rule\u001b[49m\u001b[43m,\u001b[49m\n\u001b[32m   1234\u001b[39m \u001b[43m    \u001b[49m\u001b[43m}\u001b[49m\u001b[43m,\u001b[49m\n\u001b[32m   1235\u001b[39m \u001b[43m\u001b[49m\u001b[43m)\u001b[49m\n\u001b[32m   1236\u001b[39m \u001b[38;5;28;01massert\u001b[39;00m \u001b[38;5;28misinstance\u001b[39m(out, \u001b[38;5;28mtuple\u001b[39m)\n\u001b[32m   1237\u001b[39m \u001b[38;5;28;01mreturn\u001b[39;00m \u001b[38;5;28mtuple\u001b[39m(broadcast_unpack(x, isscalar) \u001b[38;5;28;01mfor\u001b[39;00m x \u001b[38;5;129;01min\u001b[39;00m out)\n",
      "\u001b[36mFile \u001b[39m\u001b[32m~/nobackup/miniforge3/envs/ml_proj/lib/python3.12/site-packages/awkward/_broadcasting.py:1197\u001b[39m, in \u001b[36mapply_step\u001b[39m\u001b[34m(backend, inputs, action, depth, depth_context, lateral_context, options)\u001b[39m\n\u001b[32m   1195\u001b[39m     \u001b[38;5;28;01mreturn\u001b[39;00m result\n\u001b[32m   1196\u001b[39m \u001b[38;5;28;01melif\u001b[39;00m result \u001b[38;5;129;01mis\u001b[39;00m \u001b[38;5;28;01mNone\u001b[39;00m:\n\u001b[32m-> \u001b[39m\u001b[32m1197\u001b[39m     \u001b[38;5;28;01mreturn\u001b[39;00m \u001b[43mcontinuation\u001b[49m\u001b[43m(\u001b[49m\u001b[43m)\u001b[49m\n\u001b[32m   1198\u001b[39m \u001b[38;5;28;01melse\u001b[39;00m:\n\u001b[32m   1199\u001b[39m     \u001b[38;5;28;01mraise\u001b[39;00m \u001b[38;5;167;01mAssertionError\u001b[39;00m(result)\n",
      "\u001b[36mFile \u001b[39m\u001b[32m~/nobackup/miniforge3/envs/ml_proj/lib/python3.12/site-packages/awkward/_broadcasting.py:1166\u001b[39m, in \u001b[36mapply_step.<locals>.continuation\u001b[39m\u001b[34m()\u001b[39m\n\u001b[32m   1164\u001b[39m \u001b[38;5;66;03m# Any non-string list-types?\u001b[39;00m\n\u001b[32m   1165\u001b[39m \u001b[38;5;28;01melif\u001b[39;00m \u001b[38;5;28many\u001b[39m(x.is_list \u001b[38;5;129;01mand\u001b[39;00m \u001b[38;5;129;01mnot\u001b[39;00m is_string_like(x) \u001b[38;5;28;01mfor\u001b[39;00m x \u001b[38;5;129;01min\u001b[39;00m contents):\n\u001b[32m-> \u001b[39m\u001b[32m1166\u001b[39m     \u001b[38;5;28;01mreturn\u001b[39;00m \u001b[43mbroadcast_any_list\u001b[49m\u001b[43m(\u001b[49m\u001b[43m)\u001b[49m\n\u001b[32m   1168\u001b[39m \u001b[38;5;66;03m# Any RecordArrays?\u001b[39;00m\n\u001b[32m   1169\u001b[39m \u001b[38;5;28;01melif\u001b[39;00m \u001b[38;5;28many\u001b[39m(x.is_record \u001b[38;5;28;01mfor\u001b[39;00m x \u001b[38;5;129;01min\u001b[39;00m contents):\n",
      "\u001b[36mFile \u001b[39m\u001b[32m~/nobackup/miniforge3/envs/ml_proj/lib/python3.12/site-packages/awkward/_broadcasting.py:670\u001b[39m, in \u001b[36mapply_step.<locals>.broadcast_any_list\u001b[39m\u001b[34m()\u001b[39m\n\u001b[32m    667\u001b[39m         nextinputs.append(x)\n\u001b[32m    668\u001b[39m         nextparameters.append(NO_PARAMETERS)\n\u001b[32m--> \u001b[39m\u001b[32m670\u001b[39m outcontent = \u001b[43mapply_step\u001b[49m\u001b[43m(\u001b[49m\n\u001b[32m    671\u001b[39m \u001b[43m    \u001b[49m\u001b[43mbackend\u001b[49m\u001b[43m,\u001b[49m\n\u001b[32m    672\u001b[39m \u001b[43m    \u001b[49m\u001b[43mnextinputs\u001b[49m\u001b[43m,\u001b[49m\n\u001b[32m    673\u001b[39m \u001b[43m    \u001b[49m\u001b[43maction\u001b[49m\u001b[43m,\u001b[49m\n\u001b[32m    674\u001b[39m \u001b[43m    \u001b[49m\u001b[43mdepth\u001b[49m\u001b[43m \u001b[49m\u001b[43m+\u001b[49m\u001b[43m \u001b[49m\u001b[32;43m1\u001b[39;49m\u001b[43m,\u001b[49m\n\u001b[32m    675\u001b[39m \u001b[43m    \u001b[49m\u001b[43mcopy\u001b[49m\u001b[43m.\u001b[49m\u001b[43mcopy\u001b[49m\u001b[43m(\u001b[49m\u001b[43mdepth_context\u001b[49m\u001b[43m)\u001b[49m\u001b[43m,\u001b[49m\n\u001b[32m    676\u001b[39m \u001b[43m    \u001b[49m\u001b[43mlateral_context\u001b[49m\u001b[43m,\u001b[49m\n\u001b[32m    677\u001b[39m \u001b[43m    \u001b[49m\u001b[43moptions\u001b[49m\u001b[43m,\u001b[49m\n\u001b[32m    678\u001b[39m \u001b[43m\u001b[49m\u001b[43m)\u001b[49m\n\u001b[32m    679\u001b[39m \u001b[38;5;28;01massert\u001b[39;00m \u001b[38;5;28misinstance\u001b[39m(outcontent, \u001b[38;5;28mtuple\u001b[39m)\n\u001b[32m    680\u001b[39m parameters = parameters_factory(nextparameters, \u001b[38;5;28mlen\u001b[39m(outcontent))\n",
      "\u001b[36mFile \u001b[39m\u001b[32m~/nobackup/miniforge3/envs/ml_proj/lib/python3.12/site-packages/awkward/_broadcasting.py:1197\u001b[39m, in \u001b[36mapply_step\u001b[39m\u001b[34m(backend, inputs, action, depth, depth_context, lateral_context, options)\u001b[39m\n\u001b[32m   1195\u001b[39m     \u001b[38;5;28;01mreturn\u001b[39;00m result\n\u001b[32m   1196\u001b[39m \u001b[38;5;28;01melif\u001b[39;00m result \u001b[38;5;129;01mis\u001b[39;00m \u001b[38;5;28;01mNone\u001b[39;00m:\n\u001b[32m-> \u001b[39m\u001b[32m1197\u001b[39m     \u001b[38;5;28;01mreturn\u001b[39;00m \u001b[43mcontinuation\u001b[49m\u001b[43m(\u001b[49m\u001b[43m)\u001b[49m\n\u001b[32m   1198\u001b[39m \u001b[38;5;28;01melse\u001b[39;00m:\n\u001b[32m   1199\u001b[39m     \u001b[38;5;28;01mraise\u001b[39;00m \u001b[38;5;167;01mAssertionError\u001b[39;00m(result)\n",
      "\u001b[36mFile \u001b[39m\u001b[32m~/nobackup/miniforge3/envs/ml_proj/lib/python3.12/site-packages/awkward/_broadcasting.py:1166\u001b[39m, in \u001b[36mapply_step.<locals>.continuation\u001b[39m\u001b[34m()\u001b[39m\n\u001b[32m   1164\u001b[39m \u001b[38;5;66;03m# Any non-string list-types?\u001b[39;00m\n\u001b[32m   1165\u001b[39m \u001b[38;5;28;01melif\u001b[39;00m \u001b[38;5;28many\u001b[39m(x.is_list \u001b[38;5;129;01mand\u001b[39;00m \u001b[38;5;129;01mnot\u001b[39;00m is_string_like(x) \u001b[38;5;28;01mfor\u001b[39;00m x \u001b[38;5;129;01min\u001b[39;00m contents):\n\u001b[32m-> \u001b[39m\u001b[32m1166\u001b[39m     \u001b[38;5;28;01mreturn\u001b[39;00m \u001b[43mbroadcast_any_list\u001b[49m\u001b[43m(\u001b[49m\u001b[43m)\u001b[49m\n\u001b[32m   1168\u001b[39m \u001b[38;5;66;03m# Any RecordArrays?\u001b[39;00m\n\u001b[32m   1169\u001b[39m \u001b[38;5;28;01melif\u001b[39;00m \u001b[38;5;28many\u001b[39m(x.is_record \u001b[38;5;28;01mfor\u001b[39;00m x \u001b[38;5;129;01min\u001b[39;00m contents):\n",
      "\u001b[36mFile \u001b[39m\u001b[32m~/nobackup/miniforge3/envs/ml_proj/lib/python3.12/site-packages/awkward/_broadcasting.py:746\u001b[39m, in \u001b[36mapply_step.<locals>.broadcast_any_list\u001b[39m\u001b[34m()\u001b[39m\n\u001b[32m    743\u001b[39m         nextinputs.append(x)\n\u001b[32m    744\u001b[39m         nextparameters.append(NO_PARAMETERS)\n\u001b[32m--> \u001b[39m\u001b[32m746\u001b[39m outcontent = \u001b[43mapply_step\u001b[49m\u001b[43m(\u001b[49m\n\u001b[32m    747\u001b[39m \u001b[43m    \u001b[49m\u001b[43mbackend\u001b[49m\u001b[43m,\u001b[49m\n\u001b[32m    748\u001b[39m \u001b[43m    \u001b[49m\u001b[43mnextinputs\u001b[49m\u001b[43m,\u001b[49m\n\u001b[32m    749\u001b[39m \u001b[43m    \u001b[49m\u001b[43maction\u001b[49m\u001b[43m,\u001b[49m\n\u001b[32m    750\u001b[39m \u001b[43m    \u001b[49m\u001b[43mdepth\u001b[49m\u001b[43m \u001b[49m\u001b[43m+\u001b[49m\u001b[43m \u001b[49m\u001b[32;43m1\u001b[39;49m\u001b[43m,\u001b[49m\n\u001b[32m    751\u001b[39m \u001b[43m    \u001b[49m\u001b[43mcopy\u001b[49m\u001b[43m.\u001b[49m\u001b[43mcopy\u001b[49m\u001b[43m(\u001b[49m\u001b[43mdepth_context\u001b[49m\u001b[43m)\u001b[49m\u001b[43m,\u001b[49m\n\u001b[32m    752\u001b[39m \u001b[43m    \u001b[49m\u001b[43mlateral_context\u001b[49m\u001b[43m,\u001b[49m\n\u001b[32m    753\u001b[39m \u001b[43m    \u001b[49m\u001b[43moptions\u001b[49m\u001b[43m,\u001b[49m\n\u001b[32m    754\u001b[39m \u001b[43m\u001b[49m\u001b[43m)\u001b[49m\n\u001b[32m    755\u001b[39m \u001b[38;5;28;01massert\u001b[39;00m \u001b[38;5;28misinstance\u001b[39m(outcontent, \u001b[38;5;28mtuple\u001b[39m)\n\u001b[32m    756\u001b[39m parameters = parameters_factory(nextparameters, \u001b[38;5;28mlen\u001b[39m(outcontent))\n",
      "\u001b[36mFile \u001b[39m\u001b[32m~/nobackup/miniforge3/envs/ml_proj/lib/python3.12/site-packages/awkward/_broadcasting.py:1197\u001b[39m, in \u001b[36mapply_step\u001b[39m\u001b[34m(backend, inputs, action, depth, depth_context, lateral_context, options)\u001b[39m\n\u001b[32m   1195\u001b[39m     \u001b[38;5;28;01mreturn\u001b[39;00m result\n\u001b[32m   1196\u001b[39m \u001b[38;5;28;01melif\u001b[39;00m result \u001b[38;5;129;01mis\u001b[39;00m \u001b[38;5;28;01mNone\u001b[39;00m:\n\u001b[32m-> \u001b[39m\u001b[32m1197\u001b[39m     \u001b[38;5;28;01mreturn\u001b[39;00m \u001b[43mcontinuation\u001b[49m\u001b[43m(\u001b[49m\u001b[43m)\u001b[49m\n\u001b[32m   1198\u001b[39m \u001b[38;5;28;01melse\u001b[39;00m:\n\u001b[32m   1199\u001b[39m     \u001b[38;5;28;01mraise\u001b[39;00m \u001b[38;5;167;01mAssertionError\u001b[39;00m(result)\n",
      "\u001b[36mFile \u001b[39m\u001b[32m~/nobackup/miniforge3/envs/ml_proj/lib/python3.12/site-packages/awkward/_broadcasting.py:1149\u001b[39m, in \u001b[36mapply_step.<locals>.continuation\u001b[39m\u001b[34m()\u001b[39m\n\u001b[32m   1147\u001b[39m \u001b[38;5;66;03m# Any IndexedArrays?\u001b[39;00m\n\u001b[32m   1148\u001b[39m \u001b[38;5;28;01melif\u001b[39;00m \u001b[38;5;28many\u001b[39m((x.is_indexed \u001b[38;5;129;01mand\u001b[39;00m \u001b[38;5;129;01mnot\u001b[39;00m x.is_option) \u001b[38;5;28;01mfor\u001b[39;00m x \u001b[38;5;129;01min\u001b[39;00m contents):\n\u001b[32m-> \u001b[39m\u001b[32m1149\u001b[39m     \u001b[38;5;28;01mreturn\u001b[39;00m \u001b[43mbroadcast_any_indexed\u001b[49m\u001b[43m(\u001b[49m\u001b[43m)\u001b[49m\n\u001b[32m   1151\u001b[39m \u001b[38;5;66;03m# Any UnionArrays?\u001b[39;00m\n\u001b[32m   1152\u001b[39m \u001b[38;5;28;01melif\u001b[39;00m \u001b[38;5;28many\u001b[39m(x.is_union \u001b[38;5;28;01mfor\u001b[39;00m x \u001b[38;5;129;01min\u001b[39;00m contents):\n",
      "\u001b[36mFile \u001b[39m\u001b[32m~/nobackup/miniforge3/envs/ml_proj/lib/python3.12/site-packages/awkward/_broadcasting.py:1099\u001b[39m, in \u001b[36mapply_step.<locals>.broadcast_any_indexed\u001b[39m\u001b[34m()\u001b[39m\n\u001b[32m   1091\u001b[39m \u001b[38;5;28;01mdef\u001b[39;00m\u001b[38;5;250m \u001b[39m\u001b[34mbroadcast_any_indexed\u001b[39m():\n\u001b[32m   1092\u001b[39m     \u001b[38;5;66;03m# The `apply` function may exit at the level of a `RecordArray`. We can avoid projection\u001b[39;00m\n\u001b[32m   1093\u001b[39m     \u001b[38;5;66;03m# of the record array in such cases, in favour of a deferred carry. This can be done by\u001b[39;00m\n\u001b[32m   1094\u001b[39m     \u001b[38;5;66;03m# \"pushing\" the `IndexedArray` _into_ the record (i.e., wrapping each `content`).\u001b[39;00m\n\u001b[32m   1095\u001b[39m     nextinputs = [\n\u001b[32m   1096\u001b[39m         x._push_inside_record_or_project() \u001b[38;5;28;01mif\u001b[39;00m \u001b[38;5;28misinstance\u001b[39m(x, IndexedArray) \u001b[38;5;28;01melse\u001b[39;00m x\n\u001b[32m   1097\u001b[39m         \u001b[38;5;28;01mfor\u001b[39;00m x \u001b[38;5;129;01min\u001b[39;00m inputs\n\u001b[32m   1098\u001b[39m     ]\n\u001b[32m-> \u001b[39m\u001b[32m1099\u001b[39m     \u001b[38;5;28;01mreturn\u001b[39;00m \u001b[43mapply_step\u001b[49m\u001b[43m(\u001b[49m\n\u001b[32m   1100\u001b[39m \u001b[43m        \u001b[49m\u001b[43mbackend\u001b[49m\u001b[43m,\u001b[49m\n\u001b[32m   1101\u001b[39m \u001b[43m        \u001b[49m\u001b[43mnextinputs\u001b[49m\u001b[43m,\u001b[49m\n\u001b[32m   1102\u001b[39m \u001b[43m        \u001b[49m\u001b[43maction\u001b[49m\u001b[43m,\u001b[49m\n\u001b[32m   1103\u001b[39m \u001b[43m        \u001b[49m\u001b[43mdepth\u001b[49m\u001b[43m,\u001b[49m\n\u001b[32m   1104\u001b[39m \u001b[43m        \u001b[49m\u001b[43mcopy\u001b[49m\u001b[43m.\u001b[49m\u001b[43mcopy\u001b[49m\u001b[43m(\u001b[49m\u001b[43mdepth_context\u001b[49m\u001b[43m)\u001b[49m\u001b[43m,\u001b[49m\n\u001b[32m   1105\u001b[39m \u001b[43m        \u001b[49m\u001b[43mlateral_context\u001b[49m\u001b[43m,\u001b[49m\n\u001b[32m   1106\u001b[39m \u001b[43m        \u001b[49m\u001b[43moptions\u001b[49m\u001b[43m,\u001b[49m\n\u001b[32m   1107\u001b[39m \u001b[43m    \u001b[49m\u001b[43m)\u001b[49m\n",
      "\u001b[36mFile \u001b[39m\u001b[32m~/nobackup/miniforge3/envs/ml_proj/lib/python3.12/site-packages/awkward/_broadcasting.py:1197\u001b[39m, in \u001b[36mapply_step\u001b[39m\u001b[34m(backend, inputs, action, depth, depth_context, lateral_context, options)\u001b[39m\n\u001b[32m   1195\u001b[39m     \u001b[38;5;28;01mreturn\u001b[39;00m result\n\u001b[32m   1196\u001b[39m \u001b[38;5;28;01melif\u001b[39;00m result \u001b[38;5;129;01mis\u001b[39;00m \u001b[38;5;28;01mNone\u001b[39;00m:\n\u001b[32m-> \u001b[39m\u001b[32m1197\u001b[39m     \u001b[38;5;28;01mreturn\u001b[39;00m \u001b[43mcontinuation\u001b[49m\u001b[43m(\u001b[49m\u001b[43m)\u001b[49m\n\u001b[32m   1198\u001b[39m \u001b[38;5;28;01melse\u001b[39;00m:\n\u001b[32m   1199\u001b[39m     \u001b[38;5;28;01mraise\u001b[39;00m \u001b[38;5;167;01mAssertionError\u001b[39;00m(result)\n",
      "\u001b[36mFile \u001b[39m\u001b[32m~/nobackup/miniforge3/envs/ml_proj/lib/python3.12/site-packages/awkward/_broadcasting.py:1170\u001b[39m, in \u001b[36mapply_step.<locals>.continuation\u001b[39m\u001b[34m()\u001b[39m\n\u001b[32m   1168\u001b[39m \u001b[38;5;66;03m# Any RecordArrays?\u001b[39;00m\n\u001b[32m   1169\u001b[39m \u001b[38;5;28;01melif\u001b[39;00m \u001b[38;5;28many\u001b[39m(x.is_record \u001b[38;5;28;01mfor\u001b[39;00m x \u001b[38;5;129;01min\u001b[39;00m contents):\n\u001b[32m-> \u001b[39m\u001b[32m1170\u001b[39m     \u001b[38;5;28;01mreturn\u001b[39;00m \u001b[43mbroadcast_any_record\u001b[49m\u001b[43m(\u001b[49m\u001b[43m)\u001b[49m\n\u001b[32m   1172\u001b[39m \u001b[38;5;28;01melse\u001b[39;00m:\n\u001b[32m   1173\u001b[39m     \u001b[38;5;28;01mraise\u001b[39;00m \u001b[38;5;167;01mValueError\u001b[39;00m(\n\u001b[32m   1174\u001b[39m         \u001b[33m\"\u001b[39m\u001b[33mcannot broadcast: \u001b[39m\u001b[38;5;132;01m{}\u001b[39;00m\u001b[38;5;132;01m{}\u001b[39;00m\u001b[33m\"\u001b[39m.format(\n\u001b[32m   1175\u001b[39m             \u001b[33m\"\u001b[39m\u001b[33m, \u001b[39m\u001b[33m\"\u001b[39m.join(\u001b[38;5;28mrepr\u001b[39m(\u001b[38;5;28mtype\u001b[39m(x)) \u001b[38;5;28;01mfor\u001b[39;00m x \u001b[38;5;129;01min\u001b[39;00m inputs), in_function(options)\n\u001b[32m   1176\u001b[39m         )\n\u001b[32m   1177\u001b[39m     )\n",
      "\u001b[36mFile \u001b[39m\u001b[32m~/nobackup/miniforge3/envs/ml_proj/lib/python3.12/site-packages/awkward/_broadcasting.py:502\u001b[39m, in \u001b[36mapply_step.<locals>.broadcast_any_record\u001b[39m\u001b[34m()\u001b[39m\n\u001b[32m    500\u001b[39m \u001b[38;5;28;01mdef\u001b[39;00m\u001b[38;5;250m \u001b[39m\u001b[34mbroadcast_any_record\u001b[39m():\n\u001b[32m    501\u001b[39m     \u001b[38;5;28;01mif\u001b[39;00m \u001b[38;5;129;01mnot\u001b[39;00m options[\u001b[33m\"\u001b[39m\u001b[33mallow_records\u001b[39m\u001b[33m\"\u001b[39m]:\n\u001b[32m--> \u001b[39m\u001b[32m502\u001b[39m         \u001b[38;5;28;01mraise\u001b[39;00m \u001b[38;5;167;01mValueError\u001b[39;00m(\u001b[33mf\u001b[39m\u001b[33m\"\u001b[39m\u001b[33mcannot broadcast records\u001b[39m\u001b[38;5;132;01m{\u001b[39;00min_function(options)\u001b[38;5;132;01m}\u001b[39;00m\u001b[33m\"\u001b[39m)\n\u001b[32m    504\u001b[39m     frozen_record_fields: \u001b[38;5;28mfrozenset\u001b[39m[\u001b[38;5;28mstr\u001b[39m] | \u001b[38;5;28;01mNone\u001b[39;00m = UNSET\n\u001b[32m    505\u001b[39m     first_record = \u001b[38;5;28mnext\u001b[39m(c \u001b[38;5;28;01mfor\u001b[39;00m c \u001b[38;5;129;01min\u001b[39;00m contents \u001b[38;5;28;01mif\u001b[39;00m c.is_record)\n",
      "\u001b[31mValueError\u001b[39m: cannot broadcast records in equal",
      "\nThis error occurred while calling\n\n    numpy.equal.__call__(\n        <Array-typetracer [...] type='## * var * (?int32[parameters={\"__doc...'>\n        <Array-typetracer [...] type='## * var * (?int32[parameters={\"__doc...'>\n    )"
     ]
    }
   ],
   "source": [
    "ak.any(arr[:,:] == ak.full_like(arr,1000021))"
   ]
  },
  {
   "cell_type": "code",
   "execution_count": 31,
   "id": "35db9749",
   "metadata": {},
   "outputs": [
    {
     "data": {
      "text/html": [
       "<pre>[[{p0: 111, p1: 2, p2: -1000005, p3: 1000021}, ..., {p0: 21, p1: 1, ...}],\n",
       " [{p0: 1, p1: -1000005, p2: 1000021, p3: 21}, ..., {p0: 21, p1: None, ...}],\n",
       " [{p0: 4, p1: -2000001, p2: 1000021, p3: 21}, ..., {p0: 21, p1: None, ...}],\n",
       " [{p0: 1, p1: 1000021, p2: 21, p3: None}, ..., {p0: 1, p1: -4, p2: ..., ...}],\n",
       " [{p0: -1, p1: 1000021, p2: 21, p3: None}, ..., {p0: 21, p1: -3, p2: ..., ...}],\n",
       " [{p0: 411, p1: 1, p2: 1000021, p3: 21}, ..., {p0: 21, p1: None, p2: ..., ...}],\n",
       " [{p0: -3, p1: 1000021, p2: 21, p3: None}, ..., {p0: 21, p1: -1, p2: ..., ...}],\n",
       " [{p0: 3, p1: -2000001, p2: 1000021, p3: 21}, {...}, ..., {p0: 21, p1: 2, ...}],\n",
       " [{p0: 21, p1: -1, p2: 1000006, p3: 1000021}, ..., {p0: -3, p1: 1000021, ...}],\n",
       " [{p0: -4, p1: 1, p2: 1000021, p3: 21}, {...}, ..., {p0: 2, p1: 1000021, ...}],\n",
       " [{p0: 21, p1: -3, p2: 1000006, p3: 1000021}, ..., {p0: 413, p1: 4, ...}],\n",
       " [{p0: 2, p1: None, p2: None, p3: None}, ..., {p0: 1, p1: 3, p2: ..., ...}],\n",
       " [{p0: 21, p1: 2, p2: -1000005, p3: 1000021}, {...}, ..., {p0: 21, p1: 1, ...}],\n",
       " [{p0: 3, p1: -2000001, p2: 1000021, p3: 21}, ..., {p0: 21, p1: None, ...}],\n",
       " [{p0: -3, p1: 2000002, p2: 1000021, p3: 21}, ..., {p0: 21, p1: -3, ...}],\n",
       " [{p0: 21, p1: -3, p2: 1000021, p3: 21}, ..., {p0: -1, p1: 1000021, ...}],\n",
       " [{p0: 21, p1: 4, p2: -2000001, p3: 1000021}, ..., {p0: 21, p1: None, ...}],\n",
       " [{p0: 21, p1: -1, p2: 2000002, p3: 1000021}, ..., {p0: 21, p1: None, ...}],\n",
       " [{p0: -423, p1: -4, p2: 2000001, p3: 1000021}, ..., {p0: -2, p1: ..., ...}],\n",
       " [{p0: 2, p1: -1, p2: 1000021, p3: 21}, ..., {p0: -421, p1: -4, p2: ..., ...}]]\n",
       "---------------------------------------------------------------------------------------------------------------------------------------------------------------------------------------------------------------------------\n",
       "backend: cpu\n",
       "nbytes: 31.1 kB\n",
       "type: 20 * var * {\n",
       "    p0: ?int32[parameters={&quot;__doc__&quot;: &quot;PDG id&quot;}],\n",
       "    p1: ?int32[parameters={&quot;__doc__&quot;: &quot;PDG id&quot;}],\n",
       "    p2: ?int32[parameters={&quot;__doc__&quot;: &quot;PDG id&quot;}],\n",
       "    p3: ?int32[parameters={&quot;__doc__&quot;: &quot;PDG id&quot;}]\n",
       "}</pre>"
      ],
      "text/plain": [
       "<Array [[{p0: 111, p1: 2, ...}, ...], ...] type='20 * var * {p0: ?int32[par...'>"
      ]
     },
     "execution_count": 31,
     "metadata": {},
     "output_type": "execute_result"
    }
   ],
   "source": [
    "arr = ak.zip({\"p0\": events.TightJet.MatchedGenPart.pdgId, \"p1\": events.TightJet.MatchedGenPart.distinctParent.pdgId, \"p2\": events.TightJet.MatchedGenPart.distinctParent.distinctParent.pdgId, \"p3\": events.TightJet.MatchedGenPart.distinctParent.distinctParent.distinctParent.pdgId}).compute()\n",
    "arr"
   ]
  },
  {
   "cell_type": "code",
   "execution_count": 32,
   "id": "9a54b741",
   "metadata": {},
   "outputs": [
    {
     "data": {
      "text/html": [
       "<pre>[{p0: 111, p1: 2, p2: -1000005, p3: 1000021},\n",
       " {p0: 1, p1: -1000005, p2: 1000021, p3: 21},\n",
       " {p0: 21, p1: 4, p2: -1000005, p3: 1000021},\n",
       " {p0: 21, p1: 2, p2: -1000005, p3: 1000021},\n",
       " {p0: 4, p1: -1000005, p2: 1000021, p3: 21},\n",
       " {p0: 3, p1: 1000021, p2: 21, p3: None},\n",
       " {p0: 21, p1: 1, p2: -1000005, p3: 1000021}]\n",
       "--------------------------------------------------------------------------------------------------------------------------------------------------------------------------------------------------------------------\n",
       "backend: cpu\n",
       "nbytes: 27.1 kB\n",
       "type: 7 * {\n",
       "    p0: ?int32[parameters={&quot;__doc__&quot;: &quot;PDG id&quot;}],\n",
       "    p1: ?int32[parameters={&quot;__doc__&quot;: &quot;PDG id&quot;}],\n",
       "    p2: ?int32[parameters={&quot;__doc__&quot;: &quot;PDG id&quot;}],\n",
       "    p3: ?int32[parameters={&quot;__doc__&quot;: &quot;PDG id&quot;}]\n",
       "}</pre>"
      ],
      "text/plain": [
       "<Array [{p0: 111, p1: 2, p2: ..., ...}, ...] type='7 * {p0: ?int32[paramete...'>"
      ]
     },
     "execution_count": 32,
     "metadata": {},
     "output_type": "execute_result"
    }
   ],
   "source": [
    "arr[0]"
   ]
  },
  {
   "cell_type": "code",
   "execution_count": 26,
   "id": "141c9463",
   "metadata": {},
   "outputs": [
    {
     "data": {
      "text/html": [
       "<pre>[{p1: 2, p2: -1000005},\n",
       " {p1: 1, p2: -1000005},\n",
       " {p1: 4, p2: -1000005},\n",
       " {p1: 2, p2: -1000005},\n",
       " {p1: 4, p2: -1000005},\n",
       " {p1: 3, p2: 1000021},\n",
       " {p1: 1, p2: -1000005}]\n",
       "----------------------------------------------------------------------------------------------------------------\n",
       "backend: cpu\n",
       "nbytes: 13.5 kB\n",
       "type: 7 * {\n",
       "    p1: ?int32[parameters={&quot;__doc__&quot;: &quot;PDG id&quot;}],\n",
       "    p2: ?int32[parameters={&quot;__doc__&quot;: &quot;PDG id&quot;}]\n",
       "}</pre>"
      ],
      "text/plain": [
       "<Array [{p1: 2, p2: -1000005}, ..., {...}] type='7 * {p1: ?int32[parameters...'>"
      ]
     },
     "execution_count": 26,
     "metadata": {},
     "output_type": "execute_result"
    }
   ],
   "source": [
    "arr[0]"
   ]
  },
  {
   "cell_type": "code",
   "execution_count": null,
   "id": "e3a85226",
   "metadata": {},
   "outputs": [
    {
     "data": {
      "text/html": [
       "<pre>[7,\n",
       " 10,\n",
       " 7,\n",
       " 7,\n",
       " 7,\n",
       " 6,\n",
       " 6,\n",
       " 7,\n",
       " 7,\n",
       " 4,\n",
       " 6,\n",
       " 8,\n",
       " 7,\n",
       " 6,\n",
       " 6,\n",
       " 6,\n",
       " 7,\n",
       " 6,\n",
       " 5,\n",
       " 3]\n",
       "----------------\n",
       "backend: cpu\n",
       "nbytes: 160 B\n",
       "type: 20 * int64</pre>"
      ],
      "text/plain": [
       "<Array [7, 10, 7, 7, 7, 6, 6, 7, ..., 7, 6, 6, 6, 7, 6, 5, 3] type='20 * int64'>"
      ]
     },
     "execution_count": 72,
     "metadata": {},
     "output_type": "execute_result"
    }
   ],
   "source": [
    "ak.num(events.TightJet).compute()"
   ]
  },
  {
   "cell_type": "code",
   "execution_count": 76,
   "id": "abd4a05e",
   "metadata": {},
   "outputs": [
    {
     "data": {
      "text/plain": [
       "['E',\n",
       " 'E2',\n",
       " 'Et',\n",
       " 'Et2',\n",
       " 'FLAGS',\n",
       " 'M',\n",
       " 'M2',\n",
       " 'Mask',\n",
       " 'MomentumClass',\n",
       " 'Mt',\n",
       " 'Mt2',\n",
       " 'ProjectionClass2D',\n",
       " 'ProjectionClass3D',\n",
       " 'ProjectionClass4D',\n",
       " '__class__',\n",
       " '__delattr__',\n",
       " '__dir__',\n",
       " '__doc__',\n",
       " '__eq__',\n",
       " '__format__',\n",
       " '__ge__',\n",
       " '__get__',\n",
       " '__getattribute__',\n",
       " '__getstate__',\n",
       " '__gt__',\n",
       " '__hash__',\n",
       " '__init__',\n",
       " '__init_subclass__',\n",
       " '__le__',\n",
       " '__lt__',\n",
       " '__ne__',\n",
       " '__new__',\n",
       " '__reduce__',\n",
       " '__reduce_ex__',\n",
       " '__repr__',\n",
       " '__self__',\n",
       " '__self_class__',\n",
       " '__setattr__',\n",
       " '__sizeof__',\n",
       " '__str__',\n",
       " '__subclasshook__',\n",
       " '__thisclass__',\n",
       " '_attrs',\n",
       " '_behavior',\n",
       " '_cpp_type',\n",
       " '_layout',\n",
       " '_numbaview',\n",
       " 'absolute',\n",
       " 'add',\n",
       " 'attrs',\n",
       " 'azimuthal',\n",
       " 'behavior',\n",
       " 'beta',\n",
       " 'boost',\n",
       " 'boostCM_of',\n",
       " 'boostCM_of_beta3',\n",
       " 'boostCM_of_p4',\n",
       " 'boostX',\n",
       " 'boostY',\n",
       " 'boostZ',\n",
       " 'boost_beta3',\n",
       " 'boost_p4',\n",
       " 'boostvec',\n",
       " 'children',\n",
       " 'childrenIdxG',\n",
       " 'costheta',\n",
       " 'cottheta',\n",
       " 'cpp_type',\n",
       " 'cross',\n",
       " 'deltaR',\n",
       " 'deltaR2',\n",
       " 'deltaRapidityPhi',\n",
       " 'deltaRapidityPhi2',\n",
       " 'delta_phi',\n",
       " 'delta_r',\n",
       " 'delta_r2',\n",
       " 'deltaangle',\n",
       " 'deltaeta',\n",
       " 'deltaphi',\n",
       " 'distinctChildren',\n",
       " 'distinctChildrenDeep',\n",
       " 'distinctChildrenDeepIdxG',\n",
       " 'distinctChildrenIdxG',\n",
       " 'distinctParent',\n",
       " 'distinctParentIdxG',\n",
       " 'divide',\n",
       " 'dot',\n",
       " 'e',\n",
       " 'e2',\n",
       " 'energy',\n",
       " 'energy2',\n",
       " 'equal',\n",
       " 'et',\n",
       " 'et2',\n",
       " 'eta',\n",
       " 'fields',\n",
       " 'gamma',\n",
       " 'genPartIdxMother',\n",
       " 'genPartIdxMotherG',\n",
       " 'hasFlags',\n",
       " 'is_antiparallel',\n",
       " 'is_lightlike',\n",
       " 'is_parallel',\n",
       " 'is_perpendicular',\n",
       " 'is_spacelike',\n",
       " 'is_timelike',\n",
       " 'is_tuple',\n",
       " 'isclose',\n",
       " 'layout',\n",
       " 'lib',\n",
       " 'like',\n",
       " 'longitudinal',\n",
       " 'm',\n",
       " 'm2',\n",
       " 'mag',\n",
       " 'mag2',\n",
       " 'mask',\n",
       " 'mass',\n",
       " 'mass2',\n",
       " 'metric_table',\n",
       " 'mt',\n",
       " 'mt2',\n",
       " 'multiply',\n",
       " 'named_axis',\n",
       " 'nbytes',\n",
       " 'ndim',\n",
       " 'nearest',\n",
       " 'neg2D',\n",
       " 'neg3D',\n",
       " 'neg4D',\n",
       " 'negative',\n",
       " 'not_equal',\n",
       " 'numba_type',\n",
       " 'p',\n",
       " 'p2',\n",
       " 'parent',\n",
       " 'pdgId',\n",
       " 'phi',\n",
       " 'positional_axis',\n",
       " 'pseudorapidity',\n",
       " 'pt',\n",
       " 'pt2',\n",
       " 'pvec',\n",
       " 'px',\n",
       " 'py',\n",
       " 'pz',\n",
       " 'rapidity',\n",
       " 'rho',\n",
       " 'rho2',\n",
       " 'rotateX',\n",
       " 'rotateY',\n",
       " 'rotateZ',\n",
       " 'rotate_axis',\n",
       " 'rotate_euler',\n",
       " 'rotate_nautical',\n",
       " 'rotate_quaternion',\n",
       " 'scale',\n",
       " 'scale2D',\n",
       " 'scale3D',\n",
       " 'scale4D',\n",
       " 'show',\n",
       " 'status',\n",
       " 'statusFlags',\n",
       " 'subtract',\n",
       " 'sum',\n",
       " 't',\n",
       " 't2',\n",
       " 'tau',\n",
       " 'tau2',\n",
       " 'temporal',\n",
       " 'theta',\n",
       " 'to_2D',\n",
       " 'to_3D',\n",
       " 'to_4D',\n",
       " 'to_Vector2D',\n",
       " 'to_Vector3D',\n",
       " 'to_Vector4D',\n",
       " 'to_beta3',\n",
       " 'to_list',\n",
       " 'to_numpy',\n",
       " 'to_ptphi',\n",
       " 'to_ptphieta',\n",
       " 'to_ptphietaenergy',\n",
       " 'to_ptphietamass',\n",
       " 'to_ptphipz',\n",
       " 'to_ptphipzenergy',\n",
       " 'to_ptphipzmass',\n",
       " 'to_ptphitheta',\n",
       " 'to_ptphithetaenergy',\n",
       " 'to_ptphithetamass',\n",
       " 'to_pxpy',\n",
       " 'to_pxpyeta',\n",
       " 'to_pxpyetaenergy',\n",
       " 'to_pxpyetamass',\n",
       " 'to_pxpypz',\n",
       " 'to_pxpypzenergy',\n",
       " 'to_pxpypzmass',\n",
       " 'to_pxpytheta',\n",
       " 'to_pxpythetaenergy',\n",
       " 'to_pxpythetamass',\n",
       " 'to_rhophi',\n",
       " 'to_rhophieta',\n",
       " 'to_rhophietat',\n",
       " 'to_rhophietatau',\n",
       " 'to_rhophitheta',\n",
       " 'to_rhophithetat',\n",
       " 'to_rhophithetatau',\n",
       " 'to_rhophiz',\n",
       " 'to_rhophizt',\n",
       " 'to_rhophiztau',\n",
       " 'to_xy',\n",
       " 'to_xyeta',\n",
       " 'to_xyetat',\n",
       " 'to_xyetatau',\n",
       " 'to_xytheta',\n",
       " 'to_xythetat',\n",
       " 'to_xythetatau',\n",
       " 'to_xyz',\n",
       " 'to_xyzt',\n",
       " 'to_xyztau',\n",
       " 'tolist',\n",
       " 'transform2D',\n",
       " 'transform3D',\n",
       " 'transform4D',\n",
       " 'transverse_energy',\n",
       " 'transverse_energy2',\n",
       " 'transverse_mass',\n",
       " 'transverse_mass2',\n",
       " 'type',\n",
       " 'typestr',\n",
       " 'unit',\n",
       " 'x',\n",
       " 'y',\n",
       " 'z']"
      ]
     },
     "execution_count": 76,
     "metadata": {},
     "output_type": "execute_result"
    }
   ],
   "source": [
    "dir(events.TightJet.MatchedGenPart[1,:].compute())"
   ]
  },
  {
   "cell_type": "code",
   "execution_count": 78,
   "id": "377a8222",
   "metadata": {},
   "outputs": [
    {
     "data": {
      "text/html": [
       "<pre>[100,\n",
       " 104,\n",
       " 104,\n",
       " 107,\n",
       " 108,\n",
       " -1,\n",
       " -1,\n",
       " 106,\n",
       " 99,\n",
       " -1]\n",
       "-----------------\n",
       "backend: cpu\n",
       "nbytes: 13.5 kB\n",
       "type: 10 * ?int64</pre>"
      ],
      "text/plain": [
       "<Array [100, 104, 104, 107, 108, -1, -1, 106, 99, -1] type='10 * ?int64'>"
      ]
     },
     "execution_count": 78,
     "metadata": {},
     "output_type": "execute_result"
    }
   ],
   "source": [
    "events.TightJet.MatchedGenPart[1,:].distinctParentIdxG.compute()"
   ]
  },
  {
   "cell_type": "code",
   "execution_count": 74,
   "id": "89c01360",
   "metadata": {},
   "outputs": [
    {
     "data": {
      "text/html": [
       "<pre>[{genPartIdxMother: 32, statusFlags: 22913, pdgId: 1, status: 23, ...},\n",
       " {genPartIdxMother: 36, statusFlags: 22913, pdgId: -2, status: 23, ...},\n",
       " {genPartIdxMother: 36, statusFlags: 4481, pdgId: -3, status: 23, ...},\n",
       " {genPartIdxMother: 37, statusFlags: 18689, pdgId: 2, status: 52, ...},\n",
       " {genPartIdxMother: 36, statusFlags: 22913, pdgId: -2, status: 23, ...},\n",
       " None,\n",
       " None,\n",
       " {genPartIdxMother: 32, statusFlags: 22913, pdgId: 1, status: 23, ...},\n",
       " {genPartIdxMother: 31, statusFlags: 22913, pdgId: -1, status: 23, ...},\n",
       " None]\n",
       "----------------------------------------------------------------------------------------------------------------------------------------------------------------------------------------------------------------------------------------------------------------------------------------------------------------------------------------------------------------------------------------------------------------------------------------------------------------------------------------------------------------------------------------------------------------------------------------------------------------------------------------------------------------------------------------------------------------------------------------------------------------------------------------------------------------------------------------------------------------------------------------------------------------------------------------------------------------------------------------------------------------------------------------------------------------------------------------------------------------------------------------------------------------------------------------------------------------------------------------------------------------------------------------------------------------------------------------------------------------------------------------------------------------------------------------------------------------------------------------------------------------\n",
       "backend: cpu\n",
       "nbytes: 144.5 kB\n",
       "type: 10 * ?GenParticle[\n",
       "    genPartIdxMother: int16[parameters={&quot;__doc__&quot;: &quot;index of the mother particle&quot;}],\n",
       "    statusFlags: uint16[parameters={&quot;__doc__&quot;: &quot;gen status flags stored bitwise, bits are: 0 : isPrompt, 1 : isDecayedLeptonHadron, 2 : isTauDecayProduct, 3 : isPromptTauDecayProduct, 4 : isDirectTauDecayProduct, 5 : isDirectPromptTauDecayProduct, 6 : isDirectHadronDecayProduct, 7 : isHardProcess, 8 : fromHardProcess, 9 : isHardProcessTauDecayProduct, 10 : isDirectHardProcessTauDecayProduct, 11 : fromHardProcessBeforeFSR, 12 : isFirstCopy, 13 : isLastCopy, 14 : isLastCopyBeforeFSR, &quot;}],\n",
       "    pdgId: int32[parameters={&quot;__doc__&quot;: &quot;PDG id&quot;}],\n",
       "    status: int32[parameters={&quot;__doc__&quot;: &quot;Particle status. 1=stable&quot;}],\n",
       "    eta: float32[parameters={&quot;__doc__&quot;: &quot;eta&quot;}],\n",
       "    mass: float32[parameters={&quot;__doc__&quot;: &quot;Mass stored for all particles with the exception of quarks (except top), leptons/neutrinos, photons with mass &lt; 1 GeV, gluons, pi0(111), pi+(211), D0(421), and D+(411). For these particles, you can lookup the value from PDG.&quot;}],\n",
       "    phi: float32[parameters={&quot;__doc__&quot;: &quot;phi&quot;}],\n",
       "    pt: float32[parameters={&quot;__doc__&quot;: &quot;pt&quot;}],\n",
       "    genPartIdxMotherG: int64[parameters={&quot;__doc__&quot;: &quot;index of the mother particle&quot;}],\n",
       "    distinctParentIdxG: int64,\n",
       "    childrenIdxG: var * int64,\n",
       "    distinctChildrenIdxG: var * int64,\n",
       "    distinctChildrenDeepIdxG: var * int64, \n",
       "parameters={&quot;__doc__&quot;: &quot;interesting gen particles &quot;, &quot;collection_name&quot;: &quot;GenPart&quot;}]</pre>"
      ],
      "text/plain": [
       "<GenParticleArray [GenParticle, ..., None] type='10 * ?GenParticle[genPartI...'>"
      ]
     },
     "execution_count": 74,
     "metadata": {},
     "output_type": "execute_result"
    }
   ],
   "source": [
    "events.TightJet.MatchedGenPart[1,:].parent.compute()"
   ]
  },
  {
   "cell_type": "code",
   "execution_count": 29,
   "id": "1f21f58c",
   "metadata": {},
   "outputs": [
    {
     "ename": "AttributeError",
     "evalue": "copy not in fields.",
     "output_type": "error",
     "traceback": [
      "\u001b[31m---------------------------------------------------------------------------\u001b[39m",
      "\u001b[31mAttributeError\u001b[39m                            Traceback (most recent call last)",
      "\u001b[36mCell\u001b[39m\u001b[36m \u001b[39m\u001b[32mIn[29]\u001b[39m\u001b[32m, line 1\u001b[39m\n\u001b[32m----> \u001b[39m\u001b[32m1\u001b[39m gp = \u001b[43mevents\u001b[49m\u001b[43m.\u001b[49m\u001b[43mGenPart\u001b[49m\u001b[43m[\u001b[49m\u001b[32;43m0\u001b[39;49m\u001b[43m,\u001b[49m\u001b[32;43m0\u001b[39;49m\u001b[43m]\u001b[49m\u001b[43m.\u001b[49m\u001b[43mcopy\u001b[49m()\n\u001b[32m      4\u001b[39m gp.pdgId = -\u001b[32m999\u001b[39m\n\u001b[32m      5\u001b[39m gp.genPartIdxMother = -\u001b[32m1\u001b[39m\n",
      "\u001b[36mFile \u001b[39m\u001b[32m~/nobackup/miniforge3/envs/ml_proj/lib/python3.12/site-packages/dask_awkward/lib/core.py:775\u001b[39m, in \u001b[36mRecord.__getattr__\u001b[39m\u001b[34m(self, attr)\u001b[39m\n\u001b[32m    773\u001b[39m \u001b[38;5;28;01mdef\u001b[39;00m\u001b[38;5;250m \u001b[39m\u001b[34m__getattr__\u001b[39m(\u001b[38;5;28mself\u001b[39m, attr):\n\u001b[32m    774\u001b[39m     \u001b[38;5;28;01mif\u001b[39;00m attr \u001b[38;5;129;01mnot\u001b[39;00m \u001b[38;5;129;01min\u001b[39;00m (\u001b[38;5;28mself\u001b[39m.fields \u001b[38;5;129;01mor\u001b[39;00m []):\n\u001b[32m--> \u001b[39m\u001b[32m775\u001b[39m         \u001b[38;5;28;01mraise\u001b[39;00m \u001b[38;5;167;01mAttributeError\u001b[39;00m(\u001b[33mf\u001b[39m\u001b[33m\"\u001b[39m\u001b[38;5;132;01m{\u001b[39;00mattr\u001b[38;5;132;01m}\u001b[39;00m\u001b[33m not in fields.\u001b[39m\u001b[33m\"\u001b[39m)\n\u001b[32m    776\u001b[39m     \u001b[38;5;28;01mtry\u001b[39;00m:\n\u001b[32m    777\u001b[39m         \u001b[38;5;28;01mreturn\u001b[39;00m \u001b[38;5;28mself\u001b[39m.\u001b[34m__getitem__\u001b[39m(attr)\n",
      "\u001b[31mAttributeError\u001b[39m: copy not in fields."
     ]
    }
   ],
   "source": [
    "gp = events.GenPart[0,0].copy()\n",
    "\n",
    "\n",
    "gp.pdgId = -999\n",
    "gp.genPartIdxMother = -1"
   ]
  },
  {
   "cell_type": "code",
   "execution_count": null,
   "id": "32291757",
   "metadata": {},
   "outputs": [],
   "source": [
    "ak.fill_none(events.Jet.nearest(events.SlimGenPart, threshold=0.4),gp,allow_unknown=True)"
   ]
  },
  {
   "cell_type": "code",
   "execution_count": 7,
   "id": "63532938",
   "metadata": {},
   "outputs": [
    {
     "data": {
      "text/plain": [
       "-999"
      ]
     },
     "execution_count": 7,
     "metadata": {},
     "output_type": "execute_result"
    }
   ],
   "source": [
    "gp.pdgId"
   ]
  },
  {
   "cell_type": "code",
   "execution_count": 22,
   "id": "7d0266dc",
   "metadata": {},
   "outputs": [
    {
     "data": {
      "text/html": [
       "<pre>[[GenParticle, ..., None],\n",
       " [GenParticle, ...],\n",
       " [GenParticle, ...],\n",
       " [GenParticle, ...],\n",
       " [GenParticle, ...],\n",
       " [GenParticle, ..., GenParticle],\n",
       " [GenParticle, ...],\n",
       " [GenParticle, ...],\n",
       " [GenParticle, ...],\n",
       " [GenParticle, ...],\n",
       " [GenParticle, ...],\n",
       " [GenParticle, ...],\n",
       " [GenParticle, ...],\n",
       " [GenParticle, ...],\n",
       " [GenParticle, ...],\n",
       " [GenParticle, ...],\n",
       " [GenParticle, ...],\n",
       " [GenParticle, ...],\n",
       " [GenParticle, ..., GenParticle],\n",
       " [GenParticle, ...]]\n",
       "----------------------------------------------------------------------------------------------------------------------------------------------------------------------------------------------------------------------------------------------------------------------------------------------------------------------------------------------------------------------------------------------------------------------------------------------------------------------------------------------------------------------------------------------------------------------------------------------------------------------------------------------------------------------------------------------------------------------------------------------------------------------------------------------------------------------------------------------------------------------------------------------------------------------------------------------------------------------------------------------------------------------------------------------------------------------------------------------------------------------------------------------------------------------------------------------------------------------------------------------------------------------------------------------------------------------------------------------------------------------------------------------------------------------------------------------------------------------------------------------------------------------\n",
       "backend: cpu\n",
       "nbytes: 146.1 kB\n",
       "type: 20 * var * ?GenParticle[\n",
       "    genPartIdxMother: int16[parameters={&quot;__doc__&quot;: &quot;index of the mother particle&quot;}],\n",
       "    statusFlags: uint16[parameters={&quot;__doc__&quot;: &quot;gen status flags stored bitwise, bits are: 0 : isPrompt, 1 : isDecayedLeptonHadron, 2 : isTauDecayProduct, 3 : isPromptTauDecayProduct, 4 : isDirectTauDecayProduct, 5 : isDirectPromptTauDecayProduct, 6 : isDirectHadronDecayProduct, 7 : isHardProcess, 8 : fromHardProcess, 9 : isHardProcessTauDecayProduct, 10 : isDirectHardProcessTauDecayProduct, 11 : fromHardProcessBeforeFSR, 12 : isFirstCopy, 13 : isLastCopy, 14 : isLastCopyBeforeFSR, &quot;}],\n",
       "    pdgId: int32[parameters={&quot;__doc__&quot;: &quot;PDG id&quot;}],\n",
       "    status: int32[parameters={&quot;__doc__&quot;: &quot;Particle status. 1=stable&quot;}],\n",
       "    eta: float32[parameters={&quot;__doc__&quot;: &quot;eta&quot;}],\n",
       "    mass: float32[parameters={&quot;__doc__&quot;: &quot;Mass stored for all particles with the exception of quarks (except top), leptons/neutrinos, photons with mass &lt; 1 GeV, gluons, pi0(111), pi+(211), D0(421), and D+(411). For these particles, you can lookup the value from PDG.&quot;}],\n",
       "    phi: float32[parameters={&quot;__doc__&quot;: &quot;phi&quot;}],\n",
       "    pt: float32[parameters={&quot;__doc__&quot;: &quot;pt&quot;}],\n",
       "    genPartIdxMotherG: int64[parameters={&quot;__doc__&quot;: &quot;index of the mother particle&quot;}],\n",
       "    distinctParentIdxG: int64,\n",
       "    childrenIdxG: var * int64,\n",
       "    distinctChildrenIdxG: var * int64,\n",
       "    distinctChildrenDeepIdxG: var * int64, \n",
       "parameters={&quot;__doc__&quot;: &quot;interesting gen particles &quot;, &quot;collection_name&quot;: &quot;GenPart&quot;}]</pre>"
      ],
      "text/plain": [
       "<GenParticleArray [[GenParticle, GenParticle, ..., GenParticle, None], ...] type='...'>"
      ]
     },
     "execution_count": 22,
     "metadata": {},
     "output_type": "execute_result"
    }
   ],
   "source": [
    "events.Jet.nearest(events.SlimGenPart, threshold=0.4).compute()"
   ]
  },
  {
   "cell_type": "code",
   "execution_count": 30,
   "id": "d4096480",
   "metadata": {},
   "outputs": [
    {
     "data": {
      "text/html": [
       "<pre>[7,\n",
       " 10,\n",
       " 7,\n",
       " 7,\n",
       " 7,\n",
       " 6,\n",
       " 6,\n",
       " 7,\n",
       " 7,\n",
       " 4,\n",
       " 6,\n",
       " 8,\n",
       " 7,\n",
       " 6,\n",
       " 6,\n",
       " 6,\n",
       " 7,\n",
       " 6,\n",
       " 5,\n",
       " 3]\n",
       "----------------\n",
       "backend: cpu\n",
       "nbytes: 160 B\n",
       "type: 20 * int64</pre>"
      ],
      "text/plain": [
       "<Array [7, 10, 7, 7, 7, 6, 6, 7, ..., 7, 6, 6, 6, 7, 6, 5, 3] type='20 * int64'>"
      ]
     },
     "execution_count": 30,
     "metadata": {},
     "output_type": "execute_result"
    }
   ],
   "source": [
    "ak.num(tj).compute()"
   ]
  },
  {
   "cell_type": "code",
   "execution_count": 31,
   "id": "9967374e",
   "metadata": {},
   "outputs": [
    {
     "data": {
      "text/html": [
       "<pre>[1,\n",
       " 1,\n",
       " 3,\n",
       " 4,\n",
       " 2,\n",
       " 7,\n",
       " 3,\n",
       " 2,\n",
       " 1,\n",
       " 3,\n",
       " 2,\n",
       " 1,\n",
       " 7,\n",
       " 1,\n",
       " 3,\n",
       " 3,\n",
       " 7,\n",
       " 2,\n",
       " 1,\n",
       " 3]\n",
       "----------------\n",
       "backend: cpu\n",
       "nbytes: 160 B\n",
       "type: 20 * int64</pre>"
      ],
      "text/plain": [
       "<Array [1, 1, 3, 4, 2, 7, 3, 2, ..., 7, 1, 3, 3, 7, 2, 1, 3] type='20 * int64'>"
      ]
     },
     "execution_count": 31,
     "metadata": {},
     "output_type": "execute_result"
    }
   ],
   "source": [
    "(ak.num(events.Jet) - ak.num(tj)).compute()"
   ]
  },
  {
   "cell_type": "code",
   "execution_count": 9,
   "id": "192c8fac",
   "metadata": {},
   "outputs": [
    {
     "data": {
      "text/html": [
       "<pre>[[21, 21, 1000021, 1000021, 1000021, 1000021, ..., 22, 22, 22, 22, 11, -11],\n",
       " [21, 21, 1000021, 1000021, 1000021, 1000021, ..., 22, 22, 11, -11, 11, -11],\n",
       " [21, 21, 1000021, 1000021, 1000021, 1000021, ..., 11, -11, -411, -413, -421],\n",
       " [21, 21, 1000021, 1000021, 1000021, 1000021, ..., -11, 22, 22, 22, 22, 22],\n",
       " [21, 21, 1000021, 1000021, 1000021, 1000021, ..., 22, 22, 11, -11, 11, -11],\n",
       " [21, 21, 1000021, 1000021, 1000021, 1000021, ..., 22, 111, 11, -11, 22, 22],\n",
       " [21, 21, 1000021, 1000021, 1000021, 1000021, ..., 1, 111, 22, 22, 11, -11],\n",
       " [21, 21, 1000021, 1000021, 1000021, 1000021, ..., 111, 111, 11, -11, 22, 22],\n",
       " [21, 21, 1000021, 1000021, 1000021, 1000021, ..., 22, -411, 22, 22, 11, -11],\n",
       " [21, 21, 1000021, 1000021, 1000021, 1000021, ..., 421, -413, 433, -411, 431],\n",
       " [21, 21, 1000021, 1000021, 1000021, 1000021, ..., 11, -11, 22, 22, 11, -11],\n",
       " [21, 21, 1000021, 1000021, 1000021, 1000021, ..., 11, -11, 11, -11, 11, -11],\n",
       " [21, 21, 1000021, 1000021, 1000021, 1000021, ..., -11, 11, -11, 22, 11, -11],\n",
       " [21, 21, 1000021, 1000021, 1000021, 1000021, ..., 433, -411, 22, 421, 431],\n",
       " [21, 21, 1000021, 1000021, 1000021, 1000021, ..., 22, 111, 22, 22, 22, 22],\n",
       " [21, 21, 1000021, 1000021, 1000021, 1000021, ..., 111, 22, 22, 22, 22, 22],\n",
       " [21, 21, 1000021, 1000021, 1000021, 1000021, ..., 111, 111, 22, 22, 22, 22],\n",
       " [21, 21, 1000021, 1000021, 1000021, 1000021, ..., 22, 22, 22, 22, 22, 22],\n",
       " [21, 21, 1000021, 1000021, 1000021, 1000021, ..., 4132, 521, 22, 11, -12, 22],\n",
       " [21, 21, 1000021, 1000021, 1000021, 1000021, ..., 11, -11, 22, 22, 22, 22]]\n",
       "-------------------------------------------------------------------------------\n",
       "backend: cpu\n",
       "nbytes: 6.9 kB\n",
       "type: 20 * var * int32[parameters={&quot;__doc__&quot;: &quot;PDG id&quot;}]</pre>"
      ],
      "text/plain": [
       "<Array [[21, 21, 1000021, ..., 11, -11], ...] type='20 * var * int32[parame...'>"
      ]
     },
     "execution_count": 9,
     "metadata": {},
     "output_type": "execute_result"
    }
   ],
   "source": [
    "events.GenPart.pdgId.compute()"
   ]
  },
  {
   "cell_type": "code",
   "execution_count": 8,
   "id": "a9a473b8",
   "metadata": {},
   "outputs": [
    {
     "data": {
      "text/html": [
       "<pre>[[None, None, 21, 21, 1000021, 1000021, 1000021, ..., 111, 111, 111, 111, 2, 2],\n",
       " [None, None, 21, 21, 1000021, 1000021, 1000021, ..., 111, 111, 1, 1, 1, 1],\n",
       " [None, None, 21, 21, 1000021, 1000021, ..., 111, 3, 3, -511, 511, -413],\n",
       " [None, None, 21, 21, 1000021, 1000021, ..., 2, 331, 111, 111, 111, 111],\n",
       " [None, None, 21, 21, 1000021, 1000021, 1000021, ..., 111, 111, 3, 3, 3, 3],\n",
       " [None, None, 21, 21, 1000021, 1000021, 1000021, ..., 221, 411, 1, 1, 111, 111],\n",
       " [None, None, 21, 21, 1000021, 1000021, 1000021, ..., 1, 2, 111, 111, -3, -3],\n",
       " [None, None, 21, 21, 1000021, 1000021, ..., 431, 421, 111, 111, 111, 111],\n",
       " [None, None, 21, 21, 1000021, 1000021, ..., 111, -413, 111, 111, -4, -4],\n",
       " [None, None, 21, 21, 1000021, 1000021, ..., 111, 423, 511, 511, -413, 433],\n",
       " [None, None, 21, 21, 1000021, 1000021, 1000021, ..., 3, 3, 111, 111, 2, 2],\n",
       " [None, None, 21, 21, 1000021, 1000021, 1000021, ..., -4, 1, 1, 111, 111, 2, 2],\n",
       " [None, None, 21, 21, 1000021, 1000021, 1000021, ..., 1, 1, 2, 2, 111, 1, 1],\n",
       " [None, None, 21, 21, 1000021, 1000021, ..., -521, 521, 521, 221, 423, 433],\n",
       " [None, None, 21, 21, 1000021, 1000021, ..., 111, -421, 111, 111, 111, 111],\n",
       " [None, None, 21, 21, 1000021, 1000021, ..., 1, 111, 111, 111, 111, 111],\n",
       " [None, None, 21, 21, 1000021, 1000021, ..., 411, 411, 111, 111, 111, 111],\n",
       " [None, None, 21, 21, 1000021, 1000021, ..., 111, 111, 111, 111, 111, 111],\n",
       " [None, None, 21, 21, 1000021, 1000021, ..., 5132, 523, 111, -421, -421, 111],\n",
       " [None, None, 21, 21, 1000021, 1000021, 1000021, ..., 1, 1, 111, 111, 111, 111]]\n",
       "--------------------------------------------------------------------------------\n",
       "backend: cpu\n",
       "nbytes: 20.3 kB\n",
       "type: 20 * var * ?int32[parameters={&quot;__doc__&quot;: &quot;PDG id&quot;}]</pre>"
      ],
      "text/plain": [
       "<Array [[None, None, 21, ..., 111, 2, 2], ...] type='20 * var * ?int32[para...'>"
      ]
     },
     "execution_count": 8,
     "metadata": {},
     "output_type": "execute_result"
    }
   ],
   "source": [
    "events.GenPart.parent.pdgId.compute()"
   ]
  },
  {
   "cell_type": "code",
   "execution_count": null,
   "id": "7ce2cbf0",
   "metadata": {},
   "outputs": [],
   "source": []
  }
 ],
 "metadata": {
  "kernelspec": {
   "display_name": "base",
   "language": "python",
   "name": "python3"
  },
  "language_info": {
   "codemirror_mode": {
    "name": "ipython",
    "version": 3
   },
   "file_extension": ".py",
   "mimetype": "text/x-python",
   "name": "python",
   "nbconvert_exporter": "python",
   "pygments_lexer": "ipython3",
   "version": "3.10.14"
  }
 },
 "nbformat": 4,
 "nbformat_minor": 5
}
